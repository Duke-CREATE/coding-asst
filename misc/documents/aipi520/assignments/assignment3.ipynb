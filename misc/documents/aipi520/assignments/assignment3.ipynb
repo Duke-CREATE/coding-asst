{
 "cells": [
  {
   "cell_type": "markdown",
   "metadata": {
    "deletable": false,
    "editable": false,
    "nbgrader": {
     "cell_type": "markdown",
     "checksum": "1d8a98b565b9b2f56686b2e282c4f704",
     "grade": false,
     "grade_id": "cell-20e4369810f94759",
     "locked": true,
     "schema_version": 3,
     "solution": false,
     "task": false
    }
   },
   "source": [
    "<a href='https://ai.meng.duke.edu'> = <img align=\"left\" style=\"padding-top:10px;\" src=https://storage.googleapis.com/aipi_datasets/Duke-AIPI-Logo.png>"
   ]
  },
  {
   "cell_type": "markdown",
   "metadata": {
    "deletable": false,
    "editable": false,
    "nbgrader": {
     "cell_type": "markdown",
     "checksum": "f58891a595c3440c0d8778a3f76ba212",
     "grade": false,
     "grade_id": "cell-37823d560ac580ed",
     "locked": true,
     "schema_version": 3,
     "solution": false,
     "task": false
    }
   },
   "source": [
    "# Assignment 3"
   ]
  },
  {
   "cell_type": "code",
   "execution_count": 1,
   "metadata": {
    "deletable": false,
    "editable": false,
    "nbgrader": {
     "cell_type": "code",
     "checksum": "171c4f627747c54c77955f51eced616c",
     "grade": false,
     "grade_id": "cell-7023883f3988cab3",
     "locked": true,
     "schema_version": 3,
     "solution": false,
     "task": false
    }
   },
   "outputs": [],
   "source": [
    "import numpy as np\n",
    "import pandas as pd\n",
    "import matplotlib.pyplot as plt\n",
    "from sklearn.model_selection import train_test_split\n",
    "from sklearn.metrics import mean_absolute_error, mean_squared_error\n",
    "from sklearn.linear_model import LinearRegression,Lasso,Ridge\n",
    "from sklearn.metrics import mean_absolute_error, accuracy_score\n",
    "from sklearn.model_selection import KFold\n",
    "from sklearn.preprocessing import StandardScaler\n",
    "\n",
    "import warnings\n",
    "warnings.filterwarnings(\"ignore\")"
   ]
  },
  {
   "cell_type": "markdown",
   "metadata": {
    "deletable": false,
    "editable": false,
    "nbgrader": {
     "cell_type": "markdown",
     "checksum": "5c2b812418f866a6fe1d9d8c19959b35",
     "grade": false,
     "grade_id": "cell-01cf0f150da4e637",
     "locked": true,
     "schema_version": 3,
     "solution": false,
     "task": false
    }
   },
   "source": [
    "## Question 1\n",
    "In this question we will be working with the Wisconsin breast cancer dataset.  First, run the cells below to load the data, split it into training and test sets, and then scale the input data."
   ]
  },
  {
   "cell_type": "code",
   "execution_count": 2,
   "metadata": {
    "deletable": false,
    "editable": false,
    "nbgrader": {
     "cell_type": "code",
     "checksum": "003a1d2d59e343ee4f5bb3f9e82d4deb",
     "grade": false,
     "grade_id": "cell-23eedae605a05af1",
     "locked": true,
     "schema_version": 3,
     "solution": false,
     "task": false
    }
   },
   "outputs": [
    {
     "data": {
      "text/html": [
       "<div>\n",
       "<style scoped>\n",
       "    .dataframe tbody tr th:only-of-type {\n",
       "        vertical-align: middle;\n",
       "    }\n",
       "\n",
       "    .dataframe tbody tr th {\n",
       "        vertical-align: top;\n",
       "    }\n",
       "\n",
       "    .dataframe thead th {\n",
       "        text-align: right;\n",
       "    }\n",
       "</style>\n",
       "<table border=\"1\" class=\"dataframe\">\n",
       "  <thead>\n",
       "    <tr style=\"text-align: right;\">\n",
       "      <th></th>\n",
       "      <th>mean radius</th>\n",
       "      <th>mean texture</th>\n",
       "      <th>mean perimeter</th>\n",
       "      <th>mean area</th>\n",
       "      <th>mean smoothness</th>\n",
       "      <th>mean compactness</th>\n",
       "      <th>mean concavity</th>\n",
       "      <th>mean concave points</th>\n",
       "      <th>mean symmetry</th>\n",
       "      <th>mean fractal dimension</th>\n",
       "      <th>...</th>\n",
       "      <th>worst radius</th>\n",
       "      <th>worst texture</th>\n",
       "      <th>worst perimeter</th>\n",
       "      <th>worst area</th>\n",
       "      <th>worst smoothness</th>\n",
       "      <th>worst compactness</th>\n",
       "      <th>worst concavity</th>\n",
       "      <th>worst concave points</th>\n",
       "      <th>worst symmetry</th>\n",
       "      <th>worst fractal dimension</th>\n",
       "    </tr>\n",
       "  </thead>\n",
       "  <tbody>\n",
       "    <tr>\n",
       "      <th>0</th>\n",
       "      <td>17.99</td>\n",
       "      <td>10.38</td>\n",
       "      <td>122.80</td>\n",
       "      <td>1001.0</td>\n",
       "      <td>0.11840</td>\n",
       "      <td>0.27760</td>\n",
       "      <td>0.3001</td>\n",
       "      <td>0.14710</td>\n",
       "      <td>0.2419</td>\n",
       "      <td>0.07871</td>\n",
       "      <td>...</td>\n",
       "      <td>25.38</td>\n",
       "      <td>17.33</td>\n",
       "      <td>184.60</td>\n",
       "      <td>2019.0</td>\n",
       "      <td>0.1622</td>\n",
       "      <td>0.6656</td>\n",
       "      <td>0.7119</td>\n",
       "      <td>0.2654</td>\n",
       "      <td>0.4601</td>\n",
       "      <td>0.11890</td>\n",
       "    </tr>\n",
       "    <tr>\n",
       "      <th>1</th>\n",
       "      <td>20.57</td>\n",
       "      <td>17.77</td>\n",
       "      <td>132.90</td>\n",
       "      <td>1326.0</td>\n",
       "      <td>0.08474</td>\n",
       "      <td>0.07864</td>\n",
       "      <td>0.0869</td>\n",
       "      <td>0.07017</td>\n",
       "      <td>0.1812</td>\n",
       "      <td>0.05667</td>\n",
       "      <td>...</td>\n",
       "      <td>24.99</td>\n",
       "      <td>23.41</td>\n",
       "      <td>158.80</td>\n",
       "      <td>1956.0</td>\n",
       "      <td>0.1238</td>\n",
       "      <td>0.1866</td>\n",
       "      <td>0.2416</td>\n",
       "      <td>0.1860</td>\n",
       "      <td>0.2750</td>\n",
       "      <td>0.08902</td>\n",
       "    </tr>\n",
       "    <tr>\n",
       "      <th>2</th>\n",
       "      <td>19.69</td>\n",
       "      <td>21.25</td>\n",
       "      <td>130.00</td>\n",
       "      <td>1203.0</td>\n",
       "      <td>0.10960</td>\n",
       "      <td>0.15990</td>\n",
       "      <td>0.1974</td>\n",
       "      <td>0.12790</td>\n",
       "      <td>0.2069</td>\n",
       "      <td>0.05999</td>\n",
       "      <td>...</td>\n",
       "      <td>23.57</td>\n",
       "      <td>25.53</td>\n",
       "      <td>152.50</td>\n",
       "      <td>1709.0</td>\n",
       "      <td>0.1444</td>\n",
       "      <td>0.4245</td>\n",
       "      <td>0.4504</td>\n",
       "      <td>0.2430</td>\n",
       "      <td>0.3613</td>\n",
       "      <td>0.08758</td>\n",
       "    </tr>\n",
       "    <tr>\n",
       "      <th>3</th>\n",
       "      <td>11.42</td>\n",
       "      <td>20.38</td>\n",
       "      <td>77.58</td>\n",
       "      <td>386.1</td>\n",
       "      <td>0.14250</td>\n",
       "      <td>0.28390</td>\n",
       "      <td>0.2414</td>\n",
       "      <td>0.10520</td>\n",
       "      <td>0.2597</td>\n",
       "      <td>0.09744</td>\n",
       "      <td>...</td>\n",
       "      <td>14.91</td>\n",
       "      <td>26.50</td>\n",
       "      <td>98.87</td>\n",
       "      <td>567.7</td>\n",
       "      <td>0.2098</td>\n",
       "      <td>0.8663</td>\n",
       "      <td>0.6869</td>\n",
       "      <td>0.2575</td>\n",
       "      <td>0.6638</td>\n",
       "      <td>0.17300</td>\n",
       "    </tr>\n",
       "    <tr>\n",
       "      <th>4</th>\n",
       "      <td>20.29</td>\n",
       "      <td>14.34</td>\n",
       "      <td>135.10</td>\n",
       "      <td>1297.0</td>\n",
       "      <td>0.10030</td>\n",
       "      <td>0.13280</td>\n",
       "      <td>0.1980</td>\n",
       "      <td>0.10430</td>\n",
       "      <td>0.1809</td>\n",
       "      <td>0.05883</td>\n",
       "      <td>...</td>\n",
       "      <td>22.54</td>\n",
       "      <td>16.67</td>\n",
       "      <td>152.20</td>\n",
       "      <td>1575.0</td>\n",
       "      <td>0.1374</td>\n",
       "      <td>0.2050</td>\n",
       "      <td>0.4000</td>\n",
       "      <td>0.1625</td>\n",
       "      <td>0.2364</td>\n",
       "      <td>0.07678</td>\n",
       "    </tr>\n",
       "  </tbody>\n",
       "</table>\n",
       "<p>5 rows × 30 columns</p>\n",
       "</div>"
      ],
      "text/plain": [
       "   mean radius  mean texture  mean perimeter  mean area  mean smoothness  \\\n",
       "0        17.99         10.38          122.80     1001.0          0.11840   \n",
       "1        20.57         17.77          132.90     1326.0          0.08474   \n",
       "2        19.69         21.25          130.00     1203.0          0.10960   \n",
       "3        11.42         20.38           77.58      386.1          0.14250   \n",
       "4        20.29         14.34          135.10     1297.0          0.10030   \n",
       "\n",
       "   mean compactness  mean concavity  mean concave points  mean symmetry  \\\n",
       "0           0.27760          0.3001              0.14710         0.2419   \n",
       "1           0.07864          0.0869              0.07017         0.1812   \n",
       "2           0.15990          0.1974              0.12790         0.2069   \n",
       "3           0.28390          0.2414              0.10520         0.2597   \n",
       "4           0.13280          0.1980              0.10430         0.1809   \n",
       "\n",
       "   mean fractal dimension  ...  worst radius  worst texture  worst perimeter  \\\n",
       "0                 0.07871  ...         25.38          17.33           184.60   \n",
       "1                 0.05667  ...         24.99          23.41           158.80   \n",
       "2                 0.05999  ...         23.57          25.53           152.50   \n",
       "3                 0.09744  ...         14.91          26.50            98.87   \n",
       "4                 0.05883  ...         22.54          16.67           152.20   \n",
       "\n",
       "   worst area  worst smoothness  worst compactness  worst concavity  \\\n",
       "0      2019.0            0.1622             0.6656           0.7119   \n",
       "1      1956.0            0.1238             0.1866           0.2416   \n",
       "2      1709.0            0.1444             0.4245           0.4504   \n",
       "3       567.7            0.2098             0.8663           0.6869   \n",
       "4      1575.0            0.1374             0.2050           0.4000   \n",
       "\n",
       "   worst concave points  worst symmetry  worst fractal dimension  \n",
       "0                0.2654          0.4601                  0.11890  \n",
       "1                0.1860          0.2750                  0.08902  \n",
       "2                0.2430          0.3613                  0.08758  \n",
       "3                0.2575          0.6638                  0.17300  \n",
       "4                0.1625          0.2364                  0.07678  \n",
       "\n",
       "[5 rows x 30 columns]"
      ]
     },
     "execution_count": 2,
     "metadata": {},
     "output_type": "execute_result"
    }
   ],
   "source": [
    "from sklearn.datasets import load_breast_cancer\n",
    "data=load_breast_cancer(as_frame=True)\n",
    "X,y=data.data,data.target\n",
    "X.head()"
   ]
  },
  {
   "cell_type": "code",
   "execution_count": 3,
   "metadata": {},
   "outputs": [
    {
     "data": {
      "text/plain": [
       "(569, 30)"
      ]
     },
     "execution_count": 3,
     "metadata": {},
     "output_type": "execute_result"
    }
   ],
   "source": [
    "X.shape"
   ]
  },
  {
   "cell_type": "code",
   "execution_count": 4,
   "metadata": {
    "deletable": false,
    "editable": false,
    "nbgrader": {
     "cell_type": "code",
     "checksum": "bfc415abc9b13eb2c4e3f05645e82c82",
     "grade": false,
     "grade_id": "cell-55ce1d7492d0fb60",
     "locked": true,
     "schema_version": 3,
     "solution": false,
     "task": false
    }
   },
   "outputs": [],
   "source": [
    "# Since the default in the file is 0=malignant 1=benign we want to reverse these\n",
    "y=(y==0).astype(int)\n",
    "y = y.to_numpy()\n",
    "\n",
    "# Let's set aside a test set and use the remainder for training and cross-validation\n",
    "X_train,X_test,y_train,y_test = train_test_split(X, y, random_state=0,test_size=0.2)\n",
    "\n",
    "# Let's scale the inputs to help it converge more easily\n",
    "scaler = StandardScaler()\n",
    "X_train_scaled = scaler.fit_transform(X_train)\n",
    "X_test_scaled = scaler.transform(X_test)"
   ]
  },
  {
   "cell_type": "markdown",
   "metadata": {},
   "source": [
    "### Question 1.1 [10 points]\n",
    "In lecture we discussed that the cost function J(w) for logistic regression is the Negative Log Loss:  \n",
    "\n",
    "$$ J\\left(w\\right)=\\ NLL(w)=-{\\sum_{i=1}^{N}{y_i\\log{\\left(\\sigma\\left(w^Tx_i\\right)\\right)}+\\left(1-y_i\\right)log(1-\\sigma\\left(w^Tx_i\\right))}\\ } $$\n",
    "\n",
    "\n",
    "The simplified gradient of this cost function with respect to w is:  \n",
    "\n",
    "$$ \\mathrm{\\nabla\\ NLL}\\left(w\\right)=-\\sum_{i=1}^{N}{\\left[y_i-\\sigma(w^Tx_i)\\right]x_i} $$\n",
    "\n",
    "\n",
    "Show the intermediate steps to formulate the above gradient of the NLL, starting with the above equation for NLL and ending with the above equation for the gradient with respect to the weights.  Your answer should show minimum 3-4 steps and for each step you should include a brief (few words) comment on what you are doing at that step."
   ]
  },
  {
   "cell_type": "markdown",
   "metadata": {},
   "source": [
    "DERIVATION:\n",
    "\n",
    "1. For simplicity, I will be deriving the gradient for one data point, and that can be applied to all datapoints ${i}$ over the dataset\n",
    "\n",
    "2. Assume:\n",
    "\n",
    "$$ L = - (y*log{(a)} + (1-y)*log{(1-a)}) $$\n",
    "\n",
    "$$ a = \\left(\\sigma\\left(z\\right)\\right)$$\n",
    "\n",
    "$$ z = (w^T*x) $$\n",
    "\n",
    "3. And now, we have to find the derivative of ${L}$\n",
    "\n",
    "4. ${\\frac{d(L)}{d(w)}}$ = ${\\frac{d(L)}{d(a)}} * {\\frac{d(a)}{d(z)}} * {\\frac{d(z)}{d(w)}}$\n",
    "\n",
    "5. \n",
    "\n",
    "$$ {\\frac{d(L)}{d(a)}} = {\\frac{d(-(y*log{(a)} + (1-y)*log{(1-a)}))}{d(a)}} $$\n",
    "\n",
    "$$ {\\frac{d(L)}{d(a)}} = \\frac{-y}{a} + \\frac{1-y}{1-a} $$\n",
    "\n",
    "6. \n",
    "\n",
    "$$ {\\frac{d(a)}{d(z)}} = \\frac{d(\\frac{1}{1 + e^-z})}{d(z)} $$\n",
    "\n",
    "$$ {\\frac{d(a)}{d(z)}} = \\frac{e^-z}{(1+e^-z)^2} $$\n",
    "\n",
    "Rearranging the euqation for ${a}$ and replacing ${\\frac{1}{1 + e^-z}}$,\n",
    "\n",
    "$$ {\\frac{d(a)}{d(z)}} = \\frac{\\frac{1-a}{a}}{a^2} $$\n",
    "\n",
    "$$ {\\frac{d(a)}{d(z)}} = a*(1-a)$$\n",
    "\n",
    "7. \n",
    "\n",
    "$$ {\\frac{d(z)}{d(w)}} = \\frac{d(w^T*x)}{d(w)} $$\n",
    "\n",
    "$$ {\\frac{d(z)}{d(w)}} = x $$\n",
    "\n",
    "8. \n",
    "\n",
    "Susbtituting values for ${\\frac{d(L)}{d(a)}}$, ${\\frac{d(a)}{d(z)}}$, ${\\frac{d(z)}{d(w)}}$ in the formula for $ {\\frac{d(L)}{d(w)}}$,\n",
    "\n",
    "$$ {\\frac{d(L)}{d(w)}} = (\\frac{-y}{a} + \\frac{1-y}{1-a}) * a * (1-a) * x $$\n",
    "\n",
    "$$ {\\frac{d(L)}{d(w)}} = (\\frac{-y + a*y + a -a*y}{a*(1-a)}) * a * (1-a) * x $$\n",
    "\n",
    "Cancelling out the terms,\n",
    "\n",
    "$$ {\\frac{d(L)}{d(w)}} = (-y + a) * x $$\n",
    "$$ {\\frac{d(L)}{d(w)}} = -(y - a) * x $$\n",
    "\n",
    "Replacing ${a}$ with its expansion,\n",
    "\n",
    "$$ {\\frac{d(L)}{d(w)}} = -(y -  \\left(\\sigma\\left((w^T*x)\\right)\\right)) * x $$\n",
    "\n",
    "9. \n",
    "\n",
    "Now, plugging this equation for one datapoint for the entire summation,\n",
    "\n",
    "$$ \\mathrm{\\nabla\\ NLL}\\left(w\\right)=-\\sum_{i=1}^{N}{\\left[y_i-\\sigma(w^Tx_i)\\right]x_i} $$\n",
    "\n"
   ]
  },
  {
   "cell_type": "markdown",
   "metadata": {},
   "source": [
    "### Question 1.2 [15 points]\n",
    "We apply gradient descent to find the weight set w which minimizes the NLL.  In each step of gradient descent, we update the weights w as follows:\n",
    "\n",
    "$$ w_t=w_{t-1}-\\eta\\nabla\\ NLL=w_{t-1}+\\eta\\sum_{i=1}^{N}{\\left[y_i-\\sigma(w_{t-1}^Tx_i)\\right]x_i} $$\n",
    "\n",
    "Your task is now to complete the two functions below: `sigmoid()` and `NLL_batch_gradient_descent()`.  Note that you **may NOT** use scikit-learn for these functions (although you may make use of NumPy methods and you are encouraged to do so) - I want you to write them from scratch.\n",
    "\n",
    "First, complete the below function `sigmoid()`, which takes a NumPy array as input and returns the sigmoid of each element of the input array z, as a NumPy array.\n",
    "\n",
    "Then, complete the function `NLL_batch_gradient_descent()`.  The function takes the following inputs:  \n",
    "- Input data X and associated target labels y, both as NumPy arrays  \n",
    "- A randomly initialized set of weights `weights` as a NumPy array (with one weight for each feature in X).  For simplicity we will not include the bias term.   \n",
    "- The learning rate value `learning_rate` as a float. \n",
    "- The number of iterations of gradient descent to perform, `n_iterations` as an integer (you should perform this many iterations even if your solution converges earlier). \n",
    "- A very small value `epsilon` which you should add to `sigmoid(z)` in your function each time you need to use `sigmoid(z)` in a calculation.  We do this because you will at some point need to take the `log(sigmoid(z))` and if `z==0`, this will cause an error.  Therefore, we add a small value to it to prevent this issue (so we use `log(sigmoid(z)+epsilon)` instead).\n",
    "\n",
    "Your function should perform gradient descent, using the input X and y data to find the optimal set of weights `weights` that minimizes the Negative Log Likelihood cost function.  For simplicity your model does NOT need to include a bias term.\n",
    "\n",
    "Your function `NLL_batch_gradient_descent()` should return the following values in order stated:  \n",
    "- The optimal set of weights, as a NumPy array. \n",
    "- The cost at each iteration, stored in a list (which will have a length of `n_iterations` when returned)"
   ]
  },
  {
   "cell_type": "code",
   "execution_count": 5,
   "metadata": {
    "deletable": false,
    "nbgrader": {
     "cell_type": "code",
     "checksum": "fb69505116519ae63515ff93838da206",
     "grade": false,
     "grade_id": "cell-39bb4915a0f109f0",
     "locked": false,
     "schema_version": 3,
     "solution": true,
     "task": false
    }
   },
   "outputs": [],
   "source": [
    "def sigmoid(z):\n",
    "    '''\n",
    "    Calculates the sigmoid of the input z\n",
    "    '''\n",
    "    # YOUR CODE HERE\n",
    "    return 1 / (1 + np.exp(-z))\n",
    "    raise NotImplementedError()"
   ]
  },
  {
   "cell_type": "code",
   "execution_count": 6,
   "metadata": {
    "deletable": false,
    "nbgrader": {
     "cell_type": "code",
     "checksum": "fa1131cf4cf7ff77f4f8dd71492af705",
     "grade": false,
     "grade_id": "cell-f72cfe2b638684a0",
     "locked": false,
     "schema_version": 3,
     "solution": true,
     "task": false
    }
   },
   "outputs": [],
   "source": [
    "def NLL_batch_gradient_descent(X,y,weights,learning_rate,n_iterations,epsilon):\n",
    "    '''\n",
    "    Performs gradient descent to calculate weights that minimize the NLL cost function without using scikit-learn's LogisticRegression\n",
    "\n",
    "    Inputs:\n",
    "        X(np.array): array of the training data inputs\n",
    "        y(np.array): array of the training data targets\n",
    "        weights(np.array): array containing a randomly initialized set of weights (not including a bias term)\n",
    "        learning_rate(float): learning rate to use for training\n",
    "        n_iterations(int): maximum number of iterations of gradient descent to perform\n",
    "        epsilon(float): a very small value to add to sigmoid(z) in order to avoid taking the log(0) if the sigmoid(z)=0\n",
    "\n",
    "    Returns:\n",
    "        weights(np.array): the optimal set of weights found\n",
    "        cost_path(list): a list containing the cost calculated at each iteration\n",
    "\n",
    "    '''\n",
    "    # YOUR CODE HERE\n",
    "\n",
    "    cost_path = []\n",
    "    for n_iter in range(n_iterations):\n",
    "\n",
    "        z = np.dot(weights, X.T)\n",
    "\n",
    "        a = sigmoid(z)\n",
    "\n",
    "        cost = - np.sum(y*np.log(a + epsilon) + (1 - y)*np.log(1 - a + epsilon))\n",
    "\n",
    "        gradient = -(np.dot((y-a), X))\n",
    "\n",
    "        weights -= learning_rate*gradient\n",
    "\n",
    "        cost_path.append(cost)\n",
    "\n",
    "    return weights, cost_path\n",
    "    \n",
    "    raise NotImplementedError()"
   ]
  },
  {
   "cell_type": "code",
   "execution_count": 7,
   "metadata": {
    "deletable": false,
    "editable": false,
    "nbgrader": {
     "cell_type": "code",
     "checksum": "d7e6e7259803443ff405034b692cf881",
     "grade": true,
     "grade_id": "cell-296b69395e1d8d1c",
     "locked": true,
     "points": 5,
     "schema_version": 3,
     "solution": false,
     "task": false
    }
   },
   "outputs": [],
   "source": [
    "# Test cell for sigmoid function\n",
    "\n",
    "sig_z = sigmoid(np.array(0.))\n",
    "assert sig_z == np.array(0.5)\n",
    "\n",
    "sig_z = sigmoid(np.array([0.,10.]))\n",
    "np.testing.assert_allclose(np.array([0., 1.]),np.round(sig_z,0),atol=0.1)\n",
    "\n",
    "sig_z = sigmoid(np.array(10.))\n",
    "assert np.round(sig_z,0)==np.array(1.)"
   ]
  },
  {
   "cell_type": "code",
   "execution_count": 8,
   "metadata": {
    "deletable": false,
    "editable": false,
    "nbgrader": {
     "cell_type": "code",
     "checksum": "49356d746e70c7358f1341cccba2764f",
     "grade": true,
     "grade_id": "cell-e9c47cf09b7b3d28",
     "locked": true,
     "points": 10,
     "schema_version": 3,
     "solution": false,
     "task": false
    }
   },
   "outputs": [
    {
     "data": {
      "image/png": "[encoded data removed]",
      "text/plain": [
       "<Figure size 640x480 with 1 Axes>"
      ]
     },
     "metadata": {},
     "output_type": "display_data"
    },
    {
     "name": "stdout",
     "output_type": "stream",
     "text": [
      "Accuracy of your function on test set is 0.965\n"
     ]
    }
   ],
   "source": [
    "# Test cell for NLL_batch_gradient_descent function\n",
    "# Run gradient descent to get the weights that minimize our cost NLL\n",
    "n_iterations = 1000\n",
    "learning_rate = 0.01\n",
    "epsilon = 1e-10 # Add tiny value to avoid getting nan values from log(0)\n",
    "\n",
    "# Initialize the weights to random numbers\n",
    "rand_gen = np.random.RandomState(1)\n",
    "weights_init = rand_gen.normal(loc=0.0,scale=0.1,size=X_train.shape[1])\n",
    "\n",
    "# Run logistic regression using your function and plot the cost function\n",
    "weights_opt,cost_path = NLL_batch_gradient_descent(X_train_scaled,y_train,weights_init,\n",
    "                                                       learning_rate,n_iterations,epsilon)\n",
    "plt.plot(range(n_iterations),cost_path)\n",
    "plt.xlabel('iteration')\n",
    "plt.ylabel('cost')\n",
    "plt.show()\n",
    "\n",
    "assert type(cost_path) == list\n",
    "assert len(cost_path) == n_iterations\n",
    "assert weights_opt.shape[0] == 30\n",
    "\n",
    "# Use our model to generate predictions and calculate accuracy\n",
    "test_preds_probs = sigmoid(X_test_scaled.dot(weights_opt))\n",
    "\n",
    "# Convert predicted probabilities to class predictions\n",
    "test_preds = np.round(test_preds_probs).astype(int)\n",
    "\n",
    "acc_score = accuracy_score(y_test,test_preds)\n",
    "print('Accuracy of your function on test set is {:.3f}'.format(acc_score))\n"
   ]
  },
  {
   "cell_type": "markdown",
   "metadata": {},
   "source": [
    "### Question 1.3 [10 points]\n",
    "Now, let’s think about the case where we apply L2 regularization, as we saw in Ridge regression for the linear regression algorithm.  As we saw there, the way to apply this is to add the L2 penalty factor to the cost function.  We use the same penalty factor we used in linear regression.  \n",
    "\n",
    "What is the new logistic regression cost function including the L2 penalty term?  Write your answer below in the form of an equation (you do not have to add text explaining what it means).  Be very careful about your placement of brackets/parentheses especially to indicate which terms fall inside or outside of any summations."
   ]
  },
  {
   "cell_type": "markdown",
   "metadata": {},
   "source": [
    "YOUR ANSWER HERE:\n",
    "\n",
    "The new cost function would be:\n",
    "\n",
    "$$ J\\left(w\\right)=\\ NLL(w)=-{\\sum_{i=1}^{N}{y_i\\log{\\left(\\sigma\\left(w^Tx_i\\right)\\right)}+\\left(1-y_i\\right)log(1-\\sigma\\left(w^Tx_i\\right))}\\ } + \\lambda*{\\sum_{j=1}^{N}{w^2_j}} $$"
   ]
  },
  {
   "cell_type": "markdown",
   "metadata": {},
   "source": [
    "### Question 1.4 [10 points]\n",
    "What is the new update equation to update the weight set w at each step for your above cost function?  Write your answer below in the form of an equation (you do not have to add text explaining what it means).  Again be careful about placement of brackets/parentheses."
   ]
  },
  {
   "cell_type": "markdown",
   "metadata": {},
   "source": [
    "YOUR ANSWER HERE:\n",
    "\n",
    "The new gradient would be:\n",
    "\n",
    "$$ \\mathrm{\\nabla\\ NLL}\\left(w\\right)=-\\sum_{i=1}^{N}{\\left[y_i-\\sigma(w^Tx_i)\\right]x_i} + \\lambda*w $$"
   ]
  },
  {
   "cell_type": "markdown",
   "metadata": {
    "deletable": false,
    "editable": false,
    "nbgrader": {
     "cell_type": "markdown",
     "checksum": "0db065ad765fd09bf90707d9b47e3880",
     "grade": false,
     "grade_id": "cell-e8578a948374b859",
     "locked": true,
     "schema_version": 3,
     "solution": false,
     "task": false
    }
   },
   "source": [
    "### Question 1.5 [10 points]\n",
    "In this exercise we are going to take the batch gradient descent algorithm we created above (`NLL_batch_gradient_descent()` for logistic regression and modify it for use in logistic regression with regularization using the L2 penalty.  Use the equations you developed in Questions 1.2 and 1.3 for the NLL cost function and gradient descent update rule for logistic regression with L2, and complete the below function `NLL_withL2_batch_gradient_descent()` which performs gradient descent to optimize the weights for logistic regression with L2 regularization.\n",
    "\n",
    "The function takes the following inputs:  \n",
    "- Input data X and associated target labels y, both as NumPy arrays  \n",
    "- A randomly initialized set of weights `weights` as a NumPy array (with one weight for each feature in X).  For simplicity we will not include the bias term.    \n",
    "- The learning rate value `learning_rate` as a float. \n",
    "- The number of iterations of gradient descent to perform, `n_iterations` as an integer. \n",
    "- A very small value `epsilon` which you should add to `sigmoid(z)` in your function whenever you use it in a calculation.  We do this because you will at some point take the `log(sigmoid(z))` and if `sigmoid(z)==0`, this will cause an error.  Therefore, we add a small value to it to prevent this issue (so we use `log(sigmoid(z)+epsilon)` instead).  \n",
    "- A value for the penalty factor multiple lambda (`lambda`)\n",
    "\n",
    "Your function should perform gradient descent, using the input X and y data and the NLL cost function **with L2 regularization** to find the optimal set of weights `weights` that minimizes the cost function.  The function can make use of your `sigmoid()` function written above.\n",
    "\n",
    "Your function `NLL_withL2_batch_gradient_descent()` should return the following values in order stated:  \n",
    "- The optimal set of weights, as a NumPy array. \n",
    "- The cost at each iteration, stored in a list (which will have a length of `n_iterations` when returned)\n",
    "\n",
    "HINT: at some point in writing your function you may need to multiply an array by itself.  To do this, you will need to compute the matrix product / dot product of the two matrices.  You can do this using `np.dot` or `np.matmul`, however you will need to multiply a transposed version of the array by the array (in its original form).  E.g. if we have an n-dimensional array `a` and we want to compute `a**2` or `a*a`, we can do so using `a.T.dot(a)` or `np.matmul(a.T,a)`"
   ]
  },
  {
   "cell_type": "code",
   "execution_count": 9,
   "metadata": {
    "deletable": false,
    "nbgrader": {
     "cell_type": "code",
     "checksum": "a1dc407f77b0e9a6ffeba9b873d3222c",
     "grade": false,
     "grade_id": "cell-43fd022711f4297d",
     "locked": false,
     "schema_version": 3,
     "solution": true,
     "task": false
    }
   },
   "outputs": [],
   "source": [
    "def NLL_withL2_batch_gradient_descent(X,y,weights,learning_rate,n_iterations,epsilon,lambda_val):\n",
    "    '''\n",
    "    Performs gradient descent with L2 regularization to calculate weights that minimize the NLL cost function, without using scikit-learn's LogisticRegression\n",
    "\n",
    "    Inputs:\n",
    "        X(np.array): array of the training data inputs\n",
    "        y(np.array): array of the training data targets\n",
    "        weights(np.array): array containing a randomly initialized set of weights (not including a bias term)\n",
    "        learning_rate(float): learning rate to use for training\n",
    "        n_iterations(int): maximum number of iterations of gradient descent to perform\n",
    "        epsilon(float): a very small value to add to sigmoid(z) in order to avoid taking the log(0) if the sigmoid(z)=0\n",
    "        lambda_val(float): value to use for the L2 penalty coefficient lambda\n",
    "\n",
    "    Returns:\n",
    "        weights(np.array): the optimal set of weights found\n",
    "        cost_path(list): a list containing the cost calculated at each iteration\n",
    "\n",
    "    '''\n",
    "    # YOUR CODE HERE\n",
    "    cost_path = []\n",
    "    for n_iter in range(n_iterations):\n",
    "\n",
    "        z = np.dot(weights, X.T)\n",
    "\n",
    "        a = sigmoid(z)\n",
    "\n",
    "        cost = - np.sum(y*np.log(a + epsilon) + (1 - y)*np.log(1 - a + epsilon)) + lambda_val*np.sum(weights)\n",
    "\n",
    "        gradient = -(np.dot((y-a), X)) + lambda_val*weights\n",
    "\n",
    "        weights -= learning_rate*gradient\n",
    "\n",
    "        cost_path.append(cost)\n",
    "\n",
    "    return weights, cost_path\n",
    "\n",
    "    raise NotImplementedError()"
   ]
  },
  {
   "cell_type": "code",
   "execution_count": 10,
   "metadata": {
    "deletable": false,
    "editable": false,
    "nbgrader": {
     "cell_type": "code",
     "checksum": "a8b7179a029425db1a7d1167948c8d03",
     "grade": true,
     "grade_id": "cell-3b0813ace9a1b7f5",
     "locked": true,
     "points": 10,
     "schema_version": 3,
     "solution": false,
     "task": false
    }
   },
   "outputs": [
    {
     "data": {
      "image/png": "[encoded data removed]",
      "text/plain": [
       "<Figure size 640x480 with 1 Axes>"
      ]
     },
     "metadata": {},
     "output_type": "display_data"
    },
    {
     "name": "stdout",
     "output_type": "stream",
     "text": [
      "Accuracy of your function is 0.956\n"
     ]
    }
   ],
   "source": [
    "# Test cell for NLL_withL2_batch_gradient_descent\n",
    "\n",
    "# Run gradient descent to get the weights that minimize our cost NLL including regularization\n",
    "n_iterations = 1000\n",
    "learning_rate = 0.0001\n",
    "epsilon = 1e-10 # Add tiny value to avoid getting nan values from log(0)\n",
    "lambda_val = 10.\n",
    "\n",
    "# Initialize the weights to random numbers\n",
    "rand_gen = np.random.RandomState(1)\n",
    "weights_init = rand_gen.normal(loc=0.0,scale=0.1,size=X_train.shape[1])\n",
    "\n",
    "weights_opt_l2,cost_path = NLL_withL2_batch_gradient_descent(X_train_scaled,y_train,weights_init,\n",
    "                                                       learning_rate,n_iterations,epsilon, lambda_val)\n",
    "plt.plot(range(n_iterations),cost_path)\n",
    "plt.xlabel('iteration')\n",
    "plt.ylabel('cost')\n",
    "plt.show()\n",
    "\n",
    "assert type(cost_path) == list\n",
    "assert len(cost_path) == n_iterations\n",
    "assert weights_opt.shape[0] == 30\n",
    "\n",
    "# Use our model to generate predictions and calculate accuracy\n",
    "test_preds_probs = sigmoid(X_test_scaled.dot(weights_opt_l2))\n",
    "\n",
    "# Convert predicted probabilities to class predictions\n",
    "test_preds = np.round(test_preds_probs).astype(int)\n",
    "\n",
    "acc_score = accuracy_score(y_test,test_preds)\n",
    "print('Accuracy of your function is {:.3f}'.format(acc_score))\n",
    "\n",
    "assert len(weights_opt)==30\n",
    "assert acc_score>0.9"
   ]
  },
  {
   "cell_type": "markdown",
   "metadata": {
    "deletable": false,
    "editable": false,
    "nbgrader": {
     "cell_type": "markdown",
     "checksum": "b40d5318a42523ab0737b0483bc023f6",
     "grade": false,
     "grade_id": "cell-cbd95e21fef15bc0",
     "locked": true,
     "schema_version": 3,
     "solution": false,
     "task": false
    }
   },
   "source": [
    "## Question 2 [34 points]\n",
    "In this exercise we are going to be using a dataset of features drawn from the US Census about housing blocks in California.  Each observation is a particular block and the features represent aggregate or average information for that block (e.g. the number of households on the block).  Our objective will be to predict the `median_house_value` for each block from the available features.  We will use MAE as our evaluation metric.\n",
    "\n",
    "Description of the dataset features can be found here: https://developers.google.com/machine-learning/crash-course/california-housing-data-description"
   ]
  },
  {
   "cell_type": "code",
   "execution_count": 11,
   "metadata": {
    "deletable": false,
    "editable": false,
    "nbgrader": {
     "cell_type": "code",
     "checksum": "76a87f2505f04d3c4c01df524ce64725",
     "grade": false,
     "grade_id": "cell-d7f526adb6ed9b80",
     "locked": true,
     "schema_version": 3,
     "solution": false,
     "task": false
    }
   },
   "outputs": [],
   "source": [
    "# Run this to download the data before any other cells below\n",
    "# This downloads the data files into the same directory where you have saved this notebook\n",
    "\n",
    "import urllib.request\n",
    "from pathlib import Path\n",
    "import os\n",
    "path = Path()\n",
    "\n",
    "# Dictionary of file names and download links\n",
    "files = {'cal_housing.data':'https://storage.googleapis.com/aipi_datasets/cal_housing.data'}\n",
    "\n",
    "# Download each file\n",
    "for key,value in files.items():\n",
    "    filename = path/key\n",
    "    url = value\n",
    "    # If the file does not already exist in the directory, download it\n",
    "    if not os.path.exists(filename):\n",
    "        urllib.request.urlretrieve(url,filename)"
   ]
  },
  {
   "cell_type": "code",
   "execution_count": 12,
   "metadata": {
    "deletable": false,
    "editable": false,
    "nbgrader": {
     "cell_type": "code",
     "checksum": "ce7b227fbbd8801788da6e58cfe7ff6d",
     "grade": false,
     "grade_id": "cell-e02bd0fa52fdf513",
     "locked": true,
     "schema_version": 3,
     "solution": false,
     "task": false
    }
   },
   "outputs": [
    {
     "data": {
      "text/html": [
       "<div>\n",
       "<style scoped>\n",
       "    .dataframe tbody tr th:only-of-type {\n",
       "        vertical-align: middle;\n",
       "    }\n",
       "\n",
       "    .dataframe tbody tr th {\n",
       "        vertical-align: top;\n",
       "    }\n",
       "\n",
       "    .dataframe thead th {\n",
       "        text-align: right;\n",
       "    }\n",
       "</style>\n",
       "<table border=\"1\" class=\"dataframe\">\n",
       "  <thead>\n",
       "    <tr style=\"text-align: right;\">\n",
       "      <th></th>\n",
       "      <th>longitude</th>\n",
       "      <th>latitude</th>\n",
       "      <th>housing_median_age</th>\n",
       "      <th>total_rooms</th>\n",
       "      <th>total_bedrooms</th>\n",
       "      <th>population</th>\n",
       "      <th>households</th>\n",
       "      <th>median_income</th>\n",
       "      <th>median_house_value</th>\n",
       "    </tr>\n",
       "  </thead>\n",
       "  <tbody>\n",
       "    <tr>\n",
       "      <th>0</th>\n",
       "      <td>-122.23</td>\n",
       "      <td>37.88</td>\n",
       "      <td>41.0</td>\n",
       "      <td>880.0</td>\n",
       "      <td>129.0</td>\n",
       "      <td>322.0</td>\n",
       "      <td>126.0</td>\n",
       "      <td>8.3252</td>\n",
       "      <td>452600.0</td>\n",
       "    </tr>\n",
       "    <tr>\n",
       "      <th>1</th>\n",
       "      <td>-122.22</td>\n",
       "      <td>37.86</td>\n",
       "      <td>21.0</td>\n",
       "      <td>7099.0</td>\n",
       "      <td>1106.0</td>\n",
       "      <td>2401.0</td>\n",
       "      <td>1138.0</td>\n",
       "      <td>8.3014</td>\n",
       "      <td>358500.0</td>\n",
       "    </tr>\n",
       "    <tr>\n",
       "      <th>2</th>\n",
       "      <td>-122.24</td>\n",
       "      <td>37.85</td>\n",
       "      <td>52.0</td>\n",
       "      <td>1467.0</td>\n",
       "      <td>190.0</td>\n",
       "      <td>496.0</td>\n",
       "      <td>177.0</td>\n",
       "      <td>7.2574</td>\n",
       "      <td>352100.0</td>\n",
       "    </tr>\n",
       "    <tr>\n",
       "      <th>3</th>\n",
       "      <td>-122.25</td>\n",
       "      <td>37.85</td>\n",
       "      <td>52.0</td>\n",
       "      <td>1274.0</td>\n",
       "      <td>235.0</td>\n",
       "      <td>558.0</td>\n",
       "      <td>219.0</td>\n",
       "      <td>5.6431</td>\n",
       "      <td>341300.0</td>\n",
       "    </tr>\n",
       "    <tr>\n",
       "      <th>4</th>\n",
       "      <td>-122.25</td>\n",
       "      <td>37.85</td>\n",
       "      <td>52.0</td>\n",
       "      <td>1627.0</td>\n",
       "      <td>280.0</td>\n",
       "      <td>565.0</td>\n",
       "      <td>259.0</td>\n",
       "      <td>3.8462</td>\n",
       "      <td>342200.0</td>\n",
       "    </tr>\n",
       "  </tbody>\n",
       "</table>\n",
       "</div>"
      ],
      "text/plain": [
       "   longitude  latitude  housing_median_age  total_rooms  total_bedrooms  \\\n",
       "0    -122.23     37.88                41.0        880.0           129.0   \n",
       "1    -122.22     37.86                21.0       7099.0          1106.0   \n",
       "2    -122.24     37.85                52.0       1467.0           190.0   \n",
       "3    -122.25     37.85                52.0       1274.0           235.0   \n",
       "4    -122.25     37.85                52.0       1627.0           280.0   \n",
       "\n",
       "   population  households  median_income  median_house_value  \n",
       "0       322.0       126.0         8.3252            452600.0  \n",
       "1      2401.0      1138.0         8.3014            358500.0  \n",
       "2       496.0       177.0         7.2574            352100.0  \n",
       "3       558.0       219.0         5.6431            341300.0  \n",
       "4       565.0       259.0         3.8462            342200.0  "
      ]
     },
     "execution_count": 12,
     "metadata": {},
     "output_type": "execute_result"
    }
   ],
   "source": [
    "# Read in the data to a pandas dataframe\n",
    "housing_data = pd.read_csv('cal_housing.data',header=None,names=['longitude','latitude','housing_median_age','total_rooms',\n",
    "                                                 'total_bedrooms','population','households','median_income',\n",
    "                                                 'median_house_value'])\n",
    "\n",
    "housing_data.head()"
   ]
  },
  {
   "cell_type": "code",
   "execution_count": 13,
   "metadata": {
    "deletable": false,
    "editable": false,
    "nbgrader": {
     "cell_type": "code",
     "checksum": "1d21bad42f3ea274634ebd1e61e674ff",
     "grade": false,
     "grade_id": "cell-819384e10b481a94",
     "locked": true,
     "schema_version": 3,
     "solution": false,
     "task": false
    }
   },
   "outputs": [],
   "source": [
    "# Split into X and y\n",
    "X = housing_data.drop('median_house_value',axis=1)\n",
    "y = housing_data['median_house_value']\n",
    "# Get the feature names\n",
    "feats = X.columns\n",
    "\n",
    "# Convert to NumPy arrays\n",
    "X = X.to_numpy()\n",
    "y = y.to_numpy()\n",
    "\n",
    "# Split into training and test sets\n",
    "X_train,X_test,y_train,y_test = train_test_split(X, y, random_state=0,test_size=0.2)"
   ]
  },
  {
   "cell_type": "code",
   "execution_count": 14,
   "metadata": {
    "deletable": false,
    "editable": false,
    "nbgrader": {
     "cell_type": "code",
     "checksum": "5da7f2d2c1e3a9ed3769fbd90eecf418",
     "grade": false,
     "grade_id": "cell-85c02dd36b8d36da",
     "locked": true,
     "schema_version": 3,
     "solution": false,
     "task": false
    }
   },
   "outputs": [
    {
     "name": "stdout",
     "output_type": "stream",
     "text": [
      "MAE of the linear regression model on the test set is 50863.5\n"
     ]
    }
   ],
   "source": [
    "# Let's start with a normal linear model to get a baseline of performance\n",
    "lin_model = LinearRegression()\n",
    "lin_model.fit(X_train,y_train)\n",
    "test_preds = lin_model.predict(X_test)\n",
    "test_mae = mean_absolute_error(y_test,test_preds)\n",
    "print('MAE of the linear regression model on the test set is {:.1f}'.format(test_mae))"
   ]
  },
  {
   "cell_type": "markdown",
   "metadata": {
    "deletable": false,
    "editable": false,
    "nbgrader": {
     "cell_type": "markdown",
     "checksum": "bc298fe3404c34d8dd039145935eceb2",
     "grade": false,
     "grade_id": "cell-c21ac7e789eca825",
     "locked": true,
     "schema_version": 3,
     "solution": false,
     "task": false
    }
   },
   "source": [
    "### Question 2.1 [8 points]\n",
    "Now, let's try a LASSO model on the data.  Complete the below function `lasso_get_opt_lambda()` which takes as input NumPy arrays containing the dataset splits X_train and y_train, and a list containing different values to evalaute for lambda (referred to as \"alpha\" in scikit-learn's Lasso algorithm).  The function should use K-folds cross-validation (shuffle=False) with k=5 to find the optimal lambda value for the LASSO model from among the values in the list provided as input to the function (`lambda_values`).  **Remember to scale your X_train data first (use StandardScaler) prior to running your cross-validation.**  Your function should return the following in order:  \n",
    "- The optimal lambda value from the input list `lambda_values` based on minimizing the cross-validation MAE, as a float  \n",
    "- A list containing the mean validation MAE (the mean MAE across the 5 validation folds) for each value of lambda in the input list `lambda_values`"
   ]
  },
  {
   "cell_type": "code",
   "execution_count": 15,
   "metadata": {
    "deletable": false,
    "nbgrader": {
     "cell_type": "code",
     "checksum": "8835fcba79d1112f64bf114d5a207baa",
     "grade": false,
     "grade_id": "cell-3626063123cc06ca",
     "locked": false,
     "schema_version": 3,
     "solution": true,
     "task": false
    }
   },
   "outputs": [],
   "source": [
    "def lasso_get_opt_lambda(X_train,y_train,lambda_values):\n",
    "    '''\n",
    "    Finds the optimal lambda (alpha) value for the LASSO model\n",
    "\n",
    "    Inputs:\n",
    "        X_train(np.array): training data inputs\n",
    "        y_train(np.array): training data targets\n",
    "        lambda_values(list): list of values to evaluate for lambda (alpha) - the LASSO penalty factor\n",
    "\n",
    "    Returns:\n",
    "        opt_lambda_lasso(float): the optimal lambda (alpha) value found using 5-fold cross validation\n",
    "        lasso_errors(list): list containing the mean validation MAE for each value of lambda in the input list\n",
    "    '''\n",
    "    # Find the optimal lambda (alpha) value for the LASSO model\n",
    "    # Remember to scale the X data first prior to running cross-validation\n",
    "    # Return the optimal lambda and a list of the mean validation MAE across all 5 val folds at each value of lambda\n",
    "    # YOUR CODE HERE\n",
    "\n",
    "    opt_lambda_lasso = None\n",
    "\n",
    "    kFold = KFold(n_splits=5, shuffle=False)\n",
    "\n",
    "    lasso_errors = []\n",
    "\n",
    "    min_mae = float('inf')\n",
    "\n",
    "    for lambda_val in lambda_values:\n",
    "\n",
    "        temp_mae = []\n",
    "\n",
    "        for train_idx, val_idx in kFold.split(X=X_train,y=y_train):\n",
    "\n",
    "            X_fold_train, X_fold_val = X_train[train_idx], X_train[val_idx]\n",
    "            y_fold_train, y_fold_val = y_train[train_idx], y_train[val_idx]\n",
    "\n",
    "            scaler = StandardScaler()\n",
    "\n",
    "            X_train_scaled = scaler.fit_transform(X_fold_train)\n",
    "\n",
    "            X_val_scaled = scaler.transform(X_fold_val)\n",
    "\n",
    "            model = Lasso(alpha = lambda_val)\n",
    "\n",
    "            model.fit(X_train_scaled, y_fold_train)\n",
    "\n",
    "            preds = model.predict(X_val_scaled)\n",
    "\n",
    "            error = mean_absolute_error(preds, y_fold_val)\n",
    "\n",
    "            temp_mae.append(error)\n",
    "\n",
    "        lasso_errors.append(np.mean(temp_mae))\n",
    "\n",
    "        if np.mean(temp_mae) < min_mae:\n",
    "            min_mae = np.mean(temp_mae)\n",
    "            opt_lambda_lasso = lambda_val\n",
    "        \n",
    "    return opt_lambda_lasso, lasso_errors\n",
    "\n",
    "    raise NotImplementedError()"
   ]
  },
  {
   "cell_type": "code",
   "execution_count": 16,
   "metadata": {
    "deletable": false,
    "editable": false,
    "nbgrader": {
     "cell_type": "code",
     "checksum": "781b9ef32220589ced72f193bcc7ac1a",
     "grade": true,
     "grade_id": "cell-e16c98c9c153fd3a",
     "locked": true,
     "points": 8,
     "schema_version": 3,
     "solution": false,
     "task": false
    }
   },
   "outputs": [
    {
     "name": "stdout",
     "output_type": "stream",
     "text": [
      "Your function found the optimal lambda value is 0.100\n",
      "The lowest cross-validated MAE (at the optimal lambda value) was 50849.8\n"
     ]
    },
    {
     "data": {
      "image/png": "[encoded data removed]",
      "text/plain": [
       "<Figure size 640x480 with 1 Axes>"
      ]
     },
     "metadata": {},
     "output_type": "display_data"
    }
   ],
   "source": [
    "# Test cell for lasso_get_opt_lambda()\n",
    "lambda_vals = np.arange(0.1,1.1,0.1)\n",
    "opt_lambda_lasso, lasso_errors = lasso_get_opt_lambda(X_train,y_train,lambda_vals)\n",
    "\n",
    "print('Your function found the optimal lambda value is {:.3f}'.format(opt_lambda_lasso))\n",
    "print('The lowest cross-validated MAE (at the optimal lambda value) was {:.1f}'.format(np.min(lasso_errors)))\n",
    "\n",
    "# Plot the mae vs lambda/alpha values\n",
    "plt.plot(lambda_vals,lasso_errors)\n",
    "plt.xlabel('lambda')\n",
    "plt.ylabel('mae')\n",
    "plt.show()\n",
    "\n",
    "assert len(lasso_errors) == len(lambda_vals)\n",
    "assert np.round(opt_lambda_lasso,1) == 0.1\n",
    "assert len(lasso_errors) == 10"
   ]
  },
  {
   "cell_type": "markdown",
   "metadata": {
    "deletable": false,
    "editable": false,
    "nbgrader": {
     "cell_type": "markdown",
     "checksum": "8a05205dcd00ddc174a88bea9046f5de",
     "grade": false,
     "grade_id": "cell-4f2b1d7d9c54a00d",
     "locked": true,
     "schema_version": 3,
     "solution": false,
     "task": false
    }
   },
   "source": [
    "### Question 2.2 [5 points]\n",
    "Complete the below function `train_lasso()` which takes as input the value you found as the optimal lambda from the input range provided above, and the NumPy arrays X_train and y_train.  The function should train a LASSO model using the optimal lambda value on the full training data.  **Remember to scale your input data first using StandardScaler**.  Your function should then return the following in order: a list containing the coefficients of your model, and the intercept (bias) value of your model as a float (or NumPy float)"
   ]
  },
  {
   "cell_type": "code",
   "execution_count": 17,
   "metadata": {
    "deletable": false,
    "nbgrader": {
     "cell_type": "code",
     "checksum": "a751d0c44bacc532120fbc95e61953c1",
     "grade": false,
     "grade_id": "cell-d345b8943c2d28ce",
     "locked": false,
     "schema_version": 3,
     "solution": true,
     "task": false
    }
   },
   "outputs": [],
   "source": [
    "def train_lasso(opt_lambda,X_train,y_train):\n",
    "    '''\n",
    "    Trains a LASSO model using the optimal lambda and gets the resulting equation\n",
    "\n",
    "    Inputs:\n",
    "        opt_lambda(float): the optimal lambda (alpha) value\n",
    "        X_train(np.array): training data inputs\n",
    "        y_train(np.array): training data targets\n",
    "\n",
    "    Returns:\n",
    "        coef(list): list of the coefficient values of the trained model\n",
    "        intercept(float): bias term of the trained model\n",
    "    '''\n",
    "    # YOUR CODE HERE\n",
    "\n",
    "    scaler = StandardScaler()\n",
    "\n",
    "    X_train_scaled = scaler.fit_transform(X_train)\n",
    "\n",
    "    model = Lasso(alpha = opt_lambda)\n",
    "\n",
    "    model.fit(X_train_scaled, y_train)\n",
    "\n",
    "    return model.coef_, model.intercept_, model\n",
    "\n",
    "    raise NotImplementedError()"
   ]
  },
  {
   "cell_type": "code",
   "execution_count": 18,
   "metadata": {
    "deletable": false,
    "editable": false,
    "nbgrader": {
     "cell_type": "code",
     "checksum": "5afce488b63a5d3d36d094ae040ac577",
     "grade": true,
     "grade_id": "cell-57c05963a951fb0a",
     "locked": true,
     "points": 5,
     "schema_version": 3,
     "solution": false,
     "task": false
    }
   },
   "outputs": [
    {
     "name": "stdout",
     "output_type": "stream",
     "text": [
      "y = 207249.90 + -85808.93*longitude + -90729.77*latitude + 14650.98*housing_median_age + -16730.81*total_rooms + 44954.55*total_bedrooms + -43432.12*population + 19663.97*households + 76708.70*median_income\n"
     ]
    },
    {
     "data": {
      "image/png": "[encoded data removed]",
      "text/plain": [
       "<Figure size 640x480 with 1 Axes>"
      ]
     },
     "metadata": {},
     "output_type": "display_data"
    }
   ],
   "source": [
    "# Test cell for train_lasso()\n",
    "coef,intercept, lasso_model = train_lasso(opt_lambda_lasso,X_train,y_train)\n",
    "# Print out the equation\n",
    "equation = 'y = {:.2f} + '.format(intercept) + ' + '.join(['{:.2f}*{}'.format(coef,var) for coef,var in zip(coef,feats)])\n",
    "print(equation)\n",
    "\n",
    "# Plot the coefficients\n",
    "plt.barh(feats,coef)\n",
    "plt.axvline(x=0, color='.5')\n",
    "plt.show()\n",
    "\n",
    "assert len(coef)==8\n",
    "assert np.round(intercept)==207250"
   ]
  },
  {
   "cell_type": "code",
   "execution_count": 19,
   "metadata": {},
   "outputs": [
    {
     "name": "stdout",
     "output_type": "stream",
     "text": [
      "MAE on the test set is 50863.5\n"
     ]
    }
   ],
   "source": [
    "scaler = StandardScaler()\n",
    "scaler.fit(X_train)\n",
    "X_test_scaled = scaler.transform(X_test)\n",
    "test_preds = lasso_model.predict(X_test_scaled)\n",
    "test_mae = mean_absolute_error(y_test,test_preds)\n",
    "print('MAE on the test set is {:.1f}'.format(test_mae))\n"
   ]
  },
  {
   "cell_type": "markdown",
   "metadata": {
    "deletable": false,
    "editable": false,
    "nbgrader": {
     "cell_type": "markdown",
     "checksum": "4a00f7b84c0ee4218eab325343eebbca",
     "grade": false,
     "grade_id": "cell-0fe3ada79dd3761b",
     "locked": true,
     "schema_version": 3,
     "solution": false,
     "task": false
    }
   },
   "source": [
    "### Question 2.3 [8 pts]\n",
    "Now, let's fit a Ridge regression model on the data.  Complete the below function `ridge_get_opt_lambda()` which takes as input NumPy arrays containing the dataset splits X_train and y_train, and a list containing different values to evalaute for lambda (referred to as \"alpha\" in scikit-learn's Ridge algorithm).  The function should use K-folds cross-validation (shuffle=False) with k=5 to find the optimal lambda value for the Ridge model from among the values in the list provided as input to the function.  Remember to scale your X_train data first (use StandardScaler) prior to running your cross-validation.  Your function should return the following in order:  \n",
    "- The optimal lambda_value from the input list `lambda_values` based on minimizing the cross-validation MAE (the value of lambda that results in the lowest mean MAE across the 5 validation folds), as a float  \n",
    "- A list containing the mean validation MAE (the mean MAE across the 5 validation folds) for each value of lambda in the input list `lambda_values`"
   ]
  },
  {
   "cell_type": "code",
   "execution_count": 20,
   "metadata": {
    "deletable": false,
    "nbgrader": {
     "cell_type": "code",
     "checksum": "2a2a512dd90c8f0e08e6fb3cd4172428",
     "grade": false,
     "grade_id": "cell-98b550bb10d98080",
     "locked": false,
     "schema_version": 3,
     "solution": true,
     "task": false
    }
   },
   "outputs": [],
   "source": [
    "def ridge_get_opt_lambda(X_train,y_train,lambda_values):\n",
    "    '''\n",
    "    Finds the optimal lambda (alpha) value for the Ridge model\n",
    "\n",
    "    Inputs:\n",
    "        X_train(np.array): training data inputs\n",
    "        y_train(np.array): training data targets\n",
    "        lambda_values(list): list of values to evaluate for lambda (alpha) - the Ridge penalty factor\n",
    "\n",
    "    Returns:\n",
    "        opt_lambda_ridge(float): the optimal lambda (alpha) value found using 5-fold cross validation\n",
    "        ridge_errors(list): list containing the mean validation MAE for each value of lambda in the input list\n",
    "    '''\n",
    "    # YOUR CODE HERE\n",
    "    kFold = KFold(n_splits=5, shuffle=False)\n",
    "\n",
    "    scaler = StandardScaler()\n",
    "\n",
    "    X_train_scaled = scaler.fit_transform(X_train)\n",
    "\n",
    "    ridge_errors = []\n",
    "\n",
    "    for lambda_val in lambda_values:\n",
    "\n",
    "        temp_mae = []\n",
    "\n",
    "        for train_idx, val_idx in kFold.split(X=X_train_scaled,y=y_train):\n",
    "\n",
    "            X_fold_train, X_fold_val = X_train_scaled[train_idx], X_train_scaled[val_idx]\n",
    "            y_fold_train, y_fold_val = y_train[train_idx], y_train[val_idx]\n",
    "\n",
    "            # X_train_scaled = scaler.fit_transform(X_fold_train)\n",
    "\n",
    "            # X_val_scaled = scaler.transform(X_fold_val)\n",
    "\n",
    "            model = Ridge(alpha = lambda_val)\n",
    "\n",
    "            model.fit(X_fold_train, y_fold_train)\n",
    "\n",
    "            preds = model.predict(X_fold_val)\n",
    "\n",
    "            error = mean_absolute_error(preds, y_fold_val)\n",
    "\n",
    "            temp_mae.append(error)\n",
    "\n",
    "        ridge_errors.append(np.mean(temp_mae))\n",
    "        \n",
    "    opt_lambda_ridge = lambda_values[np.argmin(ridge_errors)]\n",
    "\n",
    "    return opt_lambda_ridge, ridge_errors\n",
    "\n",
    "    raise NotImplementedError()"
   ]
  },
  {
   "cell_type": "code",
   "execution_count": 21,
   "metadata": {
    "deletable": false,
    "editable": false,
    "nbgrader": {
     "cell_type": "code",
     "checksum": "f8d4329b6819eef6e572001214c25ec4",
     "grade": true,
     "grade_id": "cell-757ee9ae69ca8ed9",
     "locked": true,
     "points": 8,
     "schema_version": 3,
     "solution": false,
     "task": false
    }
   },
   "outputs": [
    {
     "name": "stdout",
     "output_type": "stream",
     "text": [
      "Your function found the optimal lambda value is 20.400\n",
      "The lowest cross-validated MAE (at the optimal lambda value) was 50846.0\n"
     ]
    },
    {
     "data": {
      "image/png": "[encoded data removed]",
      "text/plain": [
       "<Figure size 640x480 with 1 Axes>"
      ]
     },
     "metadata": {},
     "output_type": "display_data"
    }
   ],
   "source": [
    "# Test cell for ridge_get_opt_lambda\n",
    "\n",
    "lambda_values = np.arange(0,40,0.1)\n",
    "opt_lambda_ridge, ridge_errors = ridge_get_opt_lambda(X_train,y_train,lambda_values)\n",
    "\n",
    "# Get cross-validation mean MAE score\n",
    "print('Your function found the optimal lambda value is {:.3f}'.format(opt_lambda_ridge))\n",
    "min_crossval_MAE = np.min(ridge_errors)\n",
    "print('The lowest cross-validated MAE (at the optimal lambda value) was {:.1f}'.format(min_crossval_MAE))\n",
    "\n",
    "# Plot the mae vs lambda/alpha values\n",
    "plt.plot(lambda_values,ridge_errors)\n",
    "plt.xlabel('lambda')\n",
    "plt.ylabel('mae')\n",
    "plt.show()\n",
    "\n",
    "assert np.round(opt_lambda_ridge,1) == 20.4\n",
    "assert len(ridge_errors)==400"
   ]
  },
  {
   "cell_type": "markdown",
   "metadata": {
    "deletable": false,
    "editable": false,
    "nbgrader": {
     "cell_type": "markdown",
     "checksum": "04159b6ba06f7be5c3827c2fc544c06c",
     "grade": false,
     "grade_id": "cell-ea5d347cad552e8b",
     "locked": true,
     "schema_version": 3,
     "solution": false,
     "task": false
    }
   },
   "source": [
    "### Question 2.4 [5 pts]\n",
    "Complete the below function `train_ridge()` which takes as input the value you found as the optimal lambda from the input range provided above, and the NumPy arrays X_train and y_train.  The function should train a Ridge model using the optimal lambda value on the full training data (remember to scale your input data first using StandardScaler).  Your function should then return the following in order: a list containing the coefficients of your model, the intercept (bias) value of your model as a float (or NumPy float), and the trained model."
   ]
  },
  {
   "cell_type": "code",
   "execution_count": 22,
   "metadata": {
    "deletable": false,
    "nbgrader": {
     "cell_type": "code",
     "checksum": "7cec870b9a2c8b569ff6403187e1ff09",
     "grade": false,
     "grade_id": "cell-6e41baaffe560803",
     "locked": false,
     "schema_version": 3,
     "solution": true,
     "task": false
    }
   },
   "outputs": [],
   "source": [
    "def train_ridge(opt_lambda_ridge,X_train,y_train):\n",
    "    '''\n",
    "    Trains a Ridge model using the optimal lambda and gets the resulting equation\n",
    "\n",
    "    Inputs:\n",
    "        opt_lambda_ridge(float): the optimal lambda (alpha) value\n",
    "        X_train(np.array): training data inputs\n",
    "        y_train(np.array): training data targets\n",
    "\n",
    "    Returns:\n",
    "        coef(list): list of the coefficient values of the trained model\n",
    "        intercept(float): bias term of the trained model\n",
    "        final_ridge_model(sklearn.liner_model.Ridge): trained Ridge model\n",
    "    '''\n",
    "    # YOUR CODE HERE\n",
    "\n",
    "    scaler = StandardScaler()\n",
    "\n",
    "    X_train_scaled = scaler.fit_transform(X_train)\n",
    "\n",
    "    model = Ridge(alpha = opt_lambda_ridge)\n",
    "\n",
    "    model.fit(X_train_scaled, y_train)\n",
    "\n",
    "    return model.coef_, model.intercept_, model\n",
    "    raise NotImplementedError()"
   ]
  },
  {
   "cell_type": "code",
   "execution_count": 23,
   "metadata": {
    "deletable": false,
    "editable": false,
    "nbgrader": {
     "cell_type": "code",
     "checksum": "8017b655a6b45d3e3e2f12bdefded6a3",
     "grade": true,
     "grade_id": "cell-97a8882f4a06a5d3",
     "locked": true,
     "points": 5,
     "schema_version": 3,
     "solution": false,
     "task": false
    }
   },
   "outputs": [
    {
     "name": "stdout",
     "output_type": "stream",
     "text": [
      "y = 207249.90 + -84185.18*longitude + -89117.65*latitude + 14803.98*housing_median_age + -16274.02*total_rooms + 43358.28*total_bedrooms + -43188.23*population + 20632.51*households + 76670.52*median_income\n"
     ]
    },
    {
     "data": {
      "image/png": "[encoded data removed]",
      "text/plain": [
       "<Figure size 640x480 with 1 Axes>"
      ]
     },
     "metadata": {},
     "output_type": "display_data"
    }
   ],
   "source": [
    "# Test cell for train_lasso()\n",
    "coef,intercept,ridge_model = train_ridge(opt_lambda_ridge,X_train,y_train)\n",
    "# Print out the equation\n",
    "equation = 'y = {:.2f} + '.format(intercept) + ' + '.join(['{:.2f}*{}'.format(coef,var) for coef,var in zip(coef,feats)])\n",
    "print(equation)\n",
    "\n",
    "# Plot the coefficients\n",
    "plt.barh(feats,coef)\n",
    "plt.axvline(x=0, color='.5')\n",
    "plt.show()\n",
    "\n",
    "assert len(coef)==8\n",
    "assert np.round(intercept)==207250"
   ]
  },
  {
   "cell_type": "markdown",
   "metadata": {
    "deletable": false,
    "editable": false,
    "nbgrader": {
     "cell_type": "markdown",
     "checksum": "66fd53cb75b060d7144361a1d5716caa",
     "grade": false,
     "grade_id": "cell-3f0430adb359dd3d",
     "locked": true,
     "schema_version": 3,
     "solution": false,
     "task": false
    }
   },
   "source": [
    "Finally, let's evaluate the MAE of our Ridge model on the test set.  Run the cell below to do so and check your answer."
   ]
  },
  {
   "cell_type": "code",
   "execution_count": 24,
   "metadata": {
    "deletable": false,
    "editable": false,
    "nbgrader": {
     "cell_type": "code",
     "checksum": "e749b57ad8dc53c39a8693fe81d32b9a",
     "grade": false,
     "grade_id": "cell-7567e3f3849d9f77",
     "locked": true,
     "schema_version": 3,
     "solution": false,
     "task": false
    }
   },
   "outputs": [
    {
     "name": "stdout",
     "output_type": "stream",
     "text": [
      "MAE on the test set is 50883.0\n"
     ]
    }
   ],
   "source": [
    "# Test cell\n",
    "scaler = StandardScaler()\n",
    "scaler.fit(X_train)\n",
    "X_test_scaled = scaler.transform(X_test)\n",
    "test_preds = ridge_model.predict(X_test_scaled)\n",
    "test_mae = mean_absolute_error(y_test,test_preds)\n",
    "print('MAE on the test set is {:.1f}'.format(test_mae))\n",
    "assert np.round(test_mae)==50883"
   ]
  },
  {
   "cell_type": "markdown",
   "metadata": {},
   "source": [
    "### Question 2.5 [5 points]\n",
    "Compare the equations of your LASSO and Ridge models. Are they similar or very different in this case in terms of the number of features included and the coefficient magnitudes? Why might that be the case? Which one produces a better cross-validated MAE?  Write your answer below"
   ]
  },
  {
   "cell_type": "markdown",
   "metadata": {},
   "source": [
    "YOUR ANSWER HERE:\n",
    "\n",
    "Both LASSO and Ridge models have the same number of intercepts, and the coefficient magnitudes are of the same scale. Looking at magnitudes of the coefficients, Ridge seems to have the smaller coefficient magnitudes, and this can be explained by the fact that it tends to push features close to zero, but doesn't force them to be zero, leaving them at a lower value than the magnitude of coefficients for LASSO.\n",
    "\n",
    "Ridge seems to produce a better (lower) cross-validated MAE"
   ]
  },
  {
   "cell_type": "markdown",
   "metadata": {},
   "source": [
    "### Question 2.6 [5 points]\n",
    "Select the model (your LASSO or Ridge) from above that gave you the lowest cross-validated MAE on the training set (the lowest mean MAE across the validation folds of the cross-validation). What do the coefficients of this model tell you about which features have the largest impact on the median_house_value for a block?  Write your answer below"
   ]
  },
  {
   "cell_type": "markdown",
   "metadata": {},
   "source": [
    "YOUR ANSWER HERE:\n",
    "\n",
    "Total_bedrooms and median_income have the largest direct positive impact on the median_house_value, whereas the latitude and longitude have the largest negative impact for the Ridge model. This could mean that the lat and long values have an inverse relationship with median_house_value, in that as they get higher and higher, the median_house_value gets drastically lower. So, places higher up around the North tend to have a lower house value\n",
    "\n",
    "Whereas, houses with a higher number of bedrooms and houses whose surrounding areas have a higher median income have a higher value"
   ]
  },
  {
   "cell_type": "markdown",
   "metadata": {},
   "source": [
    "## Question 3 [9 points]\n",
    "Suppose we have a classification task with 3 classes.  We build two different models, and for the validation set they give us the two confusion matrices below:\n",
    "\n",
    "![CM1](CM1.png) ![CM2](CM2.png)\n",
    "\n",
    "For each of the following situations, in a sentence or two explain which model you would select and **justify your answer by referring to the confusion matrix and/or the calculated values of relevant metrics**.  For each part, use only the text given and do not make any other assumptions in what we care about in selecting the model."
   ]
  },
  {
   "cell_type": "markdown",
   "metadata": {},
   "source": [
    "### Question 3.1 [3 points]\n",
    "We want the model with the best overall accuracy in differentiating between the three classes "
   ]
  },
  {
   "cell_type": "markdown",
   "metadata": {},
   "source": [
    "YOUR ANSWER HERE:\n",
    "\n",
    "I would choose Model B as it has a higher overall accuracy\n",
    "\n",
    "I calculated accuracy by summing up the values of the number of predictions where the classes were the same and divided it by the total predictions\n",
    "\n",
    "Model A = ${\\frac{26+27+29}{26+27+29+2+6}} = .91$\n",
    "\n",
    "Model B = ${\\frac{26+32+27}{26+32+27+4+1}} = .94$"
   ]
  },
  {
   "cell_type": "markdown",
   "metadata": {},
   "source": [
    "### Question 3.2 [3 points]\n",
    "If we get a new observation that is of type Class B, we want to be as certain as possible that our model is going to classify it as type Class B.  We don’t want to mis-classify any Class B observations "
   ]
  },
  {
   "cell_type": "markdown",
   "metadata": {},
   "source": [
    "YOUR ANSWER HERE:\n",
    "\n",
    "For this case, the model with the higher recall should be picked, as recall refers to the number of samples of Class B that were predicted correctly among all the samples of class B; and we want that our new sample to be predicted correctly as Class B\n",
    "\n",
    "Recall of Model A = ${\\frac{27}{27 + 6}} = .81$\n",
    "\n",
    "Recall of Model B = ${\\frac{32}{32 + 1}} = .97$\n",
    "\n",
    "Hence, I would choose Model B"
   ]
  },
  {
   "cell_type": "markdown",
   "metadata": {},
   "source": [
    "### Question 3.3 [3 points]\n",
    "If we predict an observation as being of type Class B, we want to be as certain as possible that our prediction is correct.  If we predict a new observation as being Class B and we are wrong, it is a bad situation "
   ]
  },
  {
   "cell_type": "markdown",
   "metadata": {},
   "source": [
    "YOUR ANSWER HERE:\n",
    "\n",
    "For this case, the model with the higher precision should be picked, as precision refers to the number of true Class B samples among all the samples that were predicted as class B.\n",
    "\n",
    "Precision of Model A = ${\\frac{27}{27 + 2}} = .93$\n",
    "\n",
    "Precision of Model B = ${\\frac{32}{32 + 4}} = .88$\n",
    "\n",
    "Hence, I would choose Model A"
   ]
  }
 ],
 "metadata": {
  "kernelspec": {
   "display_name": "Python 3",
   "language": "python",
   "name": "python3"
  },
  "language_info": {
   "codemirror_mode": {
    "name": "ipython",
    "version": 3
   },
   "file_extension": ".py",
   "mimetype": "text/x-python",
   "name": "python",
   "nbconvert_exporter": "python",
   "pygments_lexer": "ipython3",
   "version": "3.10.8"
  },
  "vscode": {
   "interpreter": {
    "hash": "31cc86d7aac4849c7546154c9b56d60163d5e8a1d83593a5eed18774fbf4fd37"
   }
  }
 },
 "nbformat": 4,
 "nbformat_minor": 4
}
