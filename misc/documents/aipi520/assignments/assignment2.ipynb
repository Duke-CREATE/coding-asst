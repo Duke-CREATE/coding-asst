{
 "cells": [
  {
   "cell_type": "markdown",
   "metadata": {
    "deletable": false,
    "editable": false,
    "nbgrader": {
     "cell_type": "markdown",
     "checksum": "2e93317630731f4a8fe99de7b8ee17f3",
     "grade": false,
     "grade_id": "cell-76c7f08007dc2bf3",
     "locked": true,
     "schema_version": 3,
     "solution": false,
     "task": false
    }
   },
   "source": [
    "<a href='https://ai.meng.duke.edu'> = <img align=\"left\" style=\"padding-top:10px;\" src=https://storage.googleapis.com/aipi_datasets/Duke-AIPI-Logo.png>"
   ]
  },
  {
   "cell_type": "markdown",
   "metadata": {
    "deletable": false,
    "editable": false,
    "nbgrader": {
     "cell_type": "markdown",
     "checksum": "cb2066fa0bc12fd9c083afab57c48143",
     "grade": false,
     "grade_id": "cell-b9b9cdd22dfe2f00",
     "locked": true,
     "schema_version": 3,
     "solution": false,
     "task": false
    }
   },
   "source": [
    "# Assignment 2"
   ]
  },
  {
   "cell_type": "code",
   "execution_count": 1,
   "metadata": {
    "deletable": false,
    "editable": false,
    "nbgrader": {
     "cell_type": "code",
     "checksum": "36a67097517804f59aba48736c790b7d",
     "grade": false,
     "grade_id": "cell-cb753c51f975a8d8",
     "locked": true,
     "schema_version": 3,
     "solution": false,
     "task": false
    }
   },
   "outputs": [],
   "source": [
    "# Run this before any other code cell\n",
    "# This downloads the csv data files into the same directory where you have saved this notebook\n",
    "\n",
    "import urllib.request\n",
    "from pathlib import Path\n",
    "import os\n",
    "path = Path()\n",
    "\n",
    "# Dictionary of file names and download links\n",
    "files = {'Auto.csv':'https://storage.googleapis.com/aipi_datasets/Auto.csv',\n",
    "        'copper-new.txt':'https://storage.googleapis.com/aipi_datasets/copper-new.txt'}\n",
    "\n",
    "# Download each file\n",
    "for key,value in files.items():\n",
    "    filename = path/key\n",
    "    url = value\n",
    "    # If the file does not already exist in the directory, download it\n",
    "    if not os.path.exists(filename):\n",
    "        urllib.request.urlretrieve(url,filename)"
   ]
  },
  {
   "attachments": {},
   "cell_type": "markdown",
   "metadata": {},
   "source": [
    "## Question 1 [12 points]\n",
    "For each of the following modeling problems, indicate which evaluation metric you would select to evaluate your model using the test dataset.  Please select ONE of the following choices for each problem: MSE, MAE, MAPE, Precision, Recall, Accuracy and explain in 1-2 sentences why you chose that metric.  \n",
    "\n",
    "1)    I am creating a model to detect lung toxicity from chest x-rays.  Lung toxicity can be fatal if not detected and treated sufficiently early.    \n",
    "\n",
    "2)    I am creating a model to predict power demand for the local electric utility.  I know that if my model is off slightly on a regular basis it is not a major issue, but if I am way off during a day of particularly low or high demand, it can cost the utlity a lot of money (e.g. because they have to start up expensive “peaker plants” to produce extra energy if I predict high demand, so I better not be wrong).  \n",
    "\n",
    "3)    I am a day trader (meaning I buy and sell stocks on a daily basis) and I have built a stock price prediction model to support my trading.  I take a careful approach to my trading and I buy and sell frequent, small amounts of stock at a time – I do not place big bets.  Therefore, large errors of my model are not significantly worse than numerous small errors over time.  I need a metric which is easily understandable and fits my activity.  \n",
    "\n",
    "4)    I am building a model to determine which students should be allowed to come on campus to classes vs. which should stay at home and watch via zoom.  My model aims to predict which students are likely to be healthy (positive class) vs. which are likely to be at risk of COVID (negative class).  "
   ]
  },
  {
   "attachments": {},
   "cell_type": "markdown",
   "metadata": {},
   "source": [
    "YOUR ANSWER HERE:\n",
    "\n",
    "1) Recall - I would choose recall as the metric to focus on for this use case as the cost of misclassifying a positive label (has lung toxicity) as a negative label (doesn't have lung toxicity) and out of all patients who have lung toxicity, you would want to maximize the number of samples correctly predicted as so. And this is what recall measures.\n",
    "\n",
    "2) MSE - I would choose MSE as the metric for this use case as the model being regularly slightly off is better than being way off during a certain day, and since MSE is known to penalize large errors much more severley than small errors, which would tune the model to make smaller errors.\n",
    "\n",
    "3) MAE - Since the use case wouldn't have a significant impact due to large errors but is more focused on making the metric more interpretable, I would choose MAE.\n",
    "\n",
    "4) Precision - I would choose precision as the metric to focus on for this use case as the cost of misclassifying a negative label (has COVID) as a positive label (doesn't have COVID) and out of all students who were predicted as healthy, you would want to maximize the number of samples correctly predicted as so. And this is what precision measures."
   ]
  },
  {
   "attachments": {},
   "cell_type": "markdown",
   "metadata": {},
   "source": [
    "## Question 2 [20 points]\n",
    "In the class lecture we stated that the mean squared error (MSE) of a model is the sum of the squared bias plus the variance (plus a component of irreducible error which we will ignore in this question for purposes of simplifying).  In this problem I would like you to derive this relationship via equations.  \n",
    " \n",
    "As a starting point, we know the following:  \n",
    "\n",
    "$$ MSE = E[(y-\\hat{f}(x))^2] $$\n",
    "\n",
    "$$ Bias = (y-E[\\hat{f}(x)]) $$\n",
    "\n",
    "$$ Variance = E[(\\hat{f}(x)-E[\\hat{f}(x)])^2] $$\n",
    "\n",
    "Also, we know that by definition for a random variable Z:  \n",
    "\n",
    "$$ Var[Z] = E[Z^2]-(E[Z])^2 $$\n",
    "\n",
    "\n",
    "Use the above to derive the equation for MSE:  \n",
    "\n",
    "$$ MSE = Bias^2 + Variance $$\n",
    "\n",
    "A formal mathematical proof is not required but you must show the equations for each step of your derivation, and for each step you must include a brief comment describing what you are doing at that step."
   ]
  },
  {
   "attachments": {},
   "cell_type": "markdown",
   "metadata": {},
   "source": [
    "YOUR ANSWER HERE:\n",
    "\n",
    "For the proof, I will be making the following assumptions:\n",
    "\n",
    "$$ 1) (\\hat{f}(x)) = \\hat{y} $$\n",
    "\n",
    "2) E[y] = y, since y represents the true values and are not random variables, and the random variable in this case will be f(x)\n",
    "\n",
    "Starting by expanding MSE:\n",
    "\n",
    "$$ MSE = E[(y - \\hat{y})^2] $$\n",
    "\n",
    "$$ MSE = E[(y - \\hat{y}) * (y - \\hat{y})] $$\n",
    "\n",
    "$$ MSE = E[y^2 - 2*y*\\hat{y} + (\\hat{y})^2] $$\n",
    "\n",
    "$$ MSE = E[(\\hat{y})^2] - E[2*y*\\hat{y}] + E[y^2] $$\n",
    "\n",
    "$$ MSE = E[(\\hat{y})^2] - 2*y*E[\\hat{y}] + y^2 $$\n",
    "\n",
    "$$ MSE = y^2- 2*y*E[\\hat{y}] + E[(\\hat{y})^2] $$\n",
    "\n",
    "\n",
    "Now, expanding the Bias term:\n",
    "\n",
    "$$ Bias = y - E[\\hat{y}] $$\n",
    "\n",
    "$$ Bias^2 = (y - E[\\hat{y}])*(y - E[\\hat{y}]) $$\n",
    "\n",
    "$$ Bias^2 = y^2 - 2*y*E[\\hat{y}] + E^2[\\hat{y}] $$\n",
    "\n",
    "Finally, adding both the Variance and Bias term:\n",
    "\n",
    "$$ Variance = E[\\hat{y}^2] - E^2[\\hat{y}] $$\n",
    "\n",
    "$$ Bias^2 = y^2 - 2*y*E[\\hat{y}] + E^2[\\hat{y}] $$\n",
    "\n",
    "$$ Variance + Bias = E[\\hat{y}^2] - E^2[\\hat{y}] + y^2 - 2*y*E[\\hat{y}] + E^2[\\hat{y}] $$\n",
    "\n",
    "$$ Variance + Bias = E[\\hat{y}^2] + y^2 - 2*y*E[\\hat{y}] $$\n",
    "\n",
    "Rearranging this, we get:\n",
    "\n",
    "$$ Variance + Bias =  y^2- 2*y*E[\\hat{y}] + E[(\\hat{y})^2] $$\n",
    "\n",
    "Which is the exapended form for MSE as well\n",
    "\n",
    "Hence:\n",
    "\n",
    "$$ MSE = Variance + Bias^2 $$"
   ]
  },
  {
   "attachments": {},
   "cell_type": "markdown",
   "metadata": {
    "deletable": false,
    "editable": false,
    "nbgrader": {
     "cell_type": "markdown",
     "checksum": "8bfc788519a241b1c4966c7867deccee",
     "grade": false,
     "grade_id": "cell-6ca82daa3ac87210",
     "locked": true,
     "schema_version": 3,
     "solution": false,
     "task": false
    }
   },
   "source": [
    "## Question 3: Linear Regression Closed Form Solution [20 points]\n",
    "In most cases where we are training a linear regression model we will use an iterative solving method such as gradient descent.  However, as discussed in class for small datasets it is feasible to calculate the closed form solution for the optimal coefficients.  In this question we will practice this approach to understand how it is done.  \n",
    "\n",
    "Complete the below function `lr_closedform()` which first calculates the closed form solution for the coefficients (in this case, the bias term and a single coefficient) of a linear regression model.  The function should then apply your model on the data in `X_test` and return the predictions.\n",
    "\n",
    "Your code for this question must be done in plain Python - **you may NOT use any packages** (you will notice none have been imported for you yet in this notebook).  You may also NOT use any AI assistants (e.g. GitHub Copilot) on this - I want you to think though yourself how to approach this.\n",
    "\n",
    "Your function should work for any data of the same shape as the training data provided (3 observations, 1 feature + bias).  It does not need to work on inputs of any other size.\n",
    "\n",
    "Hint: if it has been a while since you have thought about linear algebra (or have never done it), you may need to look up how to invert a matrix.  For this problem, due to the small size of the data, it is fairly straightforward."
   ]
  },
  {
   "cell_type": "code",
   "execution_count": 2,
   "metadata": {
    "deletable": false,
    "editable": false,
    "nbgrader": {
     "cell_type": "code",
     "checksum": "68b0bc2aed960e6a65a283119bbf2be4",
     "grade": false,
     "grade_id": "cell-da55f1393d1699a4",
     "locked": true,
     "schema_version": 3,
     "solution": false,
     "task": false
    }
   },
   "outputs": [],
   "source": [
    "X_train = [[1,2],[1,3],[1,4]] # Training data inputs - 3 observations, each having a bias multiplier in first position (a '1') and a single feature\n",
    "y_train = [5,6,8] # Training data targets\n",
    "X_test = [[1,1],[1,4],[1,0.5],[1,6]] # Test input - 4 observations, each having a bias multiplier (a '1') in first position and a single feature"
   ]
  },
  {
   "cell_type": "code",
   "execution_count": 3,
   "metadata": {},
   "outputs": [],
   "source": [
    "def matrix_mult(A, B):\n",
    "\n",
    "    C = [[0 for _ in range(len(B[0]))] for _ in range(len(A))]\n",
    "\n",
    "    for i in range(len(A)):\n",
    "        for j in range(len(B[0])):\n",
    "            for k in range(len(B)):\n",
    "                C[i][j] += A[i][k] * B[k][j]\n",
    "\n",
    "    # for i in range(len(C)):\n",
    "    #     for j in range(len(C[0])):\n",
    "    #         C[i][j] = round(C[i][j], 2)\n",
    "\n",
    "    return C"
   ]
  },
  {
   "cell_type": "code",
   "execution_count": 4,
   "metadata": {},
   "outputs": [],
   "source": [
    "def det_mat(matrix):\n",
    "    dets = []\n",
    "    if len(matrix) == 1:\n",
    "        return matrix[0][0]\n",
    "    elif len(matrix) == 2:\n",
    "        return (matrix[0][0]*matrix[1][1]) - (matrix[0][1]*matrix[1][0])\n",
    "    else:\n",
    "        for i in range(len(matrix)):\n",
    "            minor_matrix = [row[:i] + row[i+1:] for row in matrix[1:]]\n",
    "            det = matrix[0][i] * (-1)**i * det_mat(minor_matrix)\n",
    "            dets.append(det)\n",
    "        return dets\n",
    "\n",
    "def adj_mat(matrix):\n",
    "    adjugate = []\n",
    "    for i in range(len(matrix)):\n",
    "        adjugate_row = []\n",
    "        for j in range(len(matrix)):\n",
    "            minor_matrix = [row[:j] + row[j+1:] for row in (matrix[:i] + matrix[i+1:])]\n",
    "            cofactor = (-1) ** (i + j) * det_mat(minor_matrix)\n",
    "            adjugate_row.append(cofactor)\n",
    "        adjugate.append(adjugate_row)\n",
    "    return adjugate"
   ]
  },
  {
   "cell_type": "code",
   "execution_count": 5,
   "metadata": {
    "deletable": false,
    "nbgrader": {
     "cell_type": "code",
     "checksum": "67192d3cb7a9e0ed0746f247e7d1093f",
     "grade": false,
     "grade_id": "cell-fabd942f1f25519e",
     "locked": false,
     "schema_version": 3,
     "solution": true,
     "task": false
    }
   },
   "outputs": [],
   "source": [
    "def lr_closedform(X_train,y_train,X_test):\n",
    "    '''\n",
    "    Computes the closed form solution for the linear regression model relating the inputs X and outputs y\n",
    "\n",
    "    Inputs:\n",
    "        X_train(list): array of input training data stored as list of lists (including bias multiplier)\n",
    "        y_train(list): target data\n",
    "        X_test(list): array of input test data stored as list of lists (including bias multiplier)\n",
    "\n",
    "    Returns:\n",
    "        preds(list): predictions of your model on the test data\n",
    "    '''\n",
    "\n",
    "    # YOUR CODE HERE\n",
    "\n",
    "    X_train_transpose = list(zip(*X_train))\n",
    "\n",
    "    mult_Xs = matrix_mult(X_train_transpose, X_train)\n",
    "\n",
    "    det = det_mat(mult_Xs)\n",
    "\n",
    "    adj = adj_mat(mult_Xs)\n",
    "\n",
    "    inverse_matrix = [[adj[i][j] / det for j in range(len(mult_Xs))] for i in range(len(mult_Xs))]\n",
    "\n",
    "    temp_1 = matrix_mult(inverse_matrix, X_train_transpose)\n",
    "\n",
    "    weights = matrix_mult(temp_1, [[x] for x in y_train])\n",
    "\n",
    "    y_preds = matrix_mult(X_test, weights)\n",
    "\n",
    "    preds = [item for sublist in y_preds for item in sublist]\n",
    "    \n",
    "    return preds\n",
    "\n",
    "    raise NotImplementedError()"
   ]
  },
  {
   "cell_type": "code",
   "execution_count": 6,
   "metadata": {
    "deletable": false,
    "editable": false,
    "nbgrader": {
     "cell_type": "code",
     "checksum": "e1ea0b29e8948f45fec081907fb98145",
     "grade": true,
     "grade_id": "cell-71f51679497aa0d2",
     "locked": true,
     "points": 20,
     "schema_version": 3,
     "solution": false,
     "task": false
    }
   },
   "outputs": [],
   "source": [
    "# Test cell\n",
    "preds = lr_closedform(X_train,y_train,X_test)\n",
    "assert len(preds) == 4\n",
    "\n",
    "assert round(preds[0],1) == 3.3\n",
    "assert round(preds[1],1) == 7.8\n",
    "assert round(preds[2],1) == 2.6\n",
    "assert round(preds[3],1) == 10.8"
   ]
  },
  {
   "cell_type": "markdown",
   "metadata": {
    "deletable": false,
    "editable": false,
    "nbgrader": {
     "cell_type": "markdown",
     "checksum": "8baf9e579a7aaf6c0e9a8bac9eee068d",
     "grade": false,
     "grade_id": "cell-6543e7ec6b2d4fb8",
     "locked": true,
     "schema_version": 3,
     "solution": false,
     "task": false
    }
   },
   "source": [
    "## Question 4: Classification metrics and the ROC curve [10 pts]\n",
    "### Question 4.0 [5 pts]\n",
    "Run the cell below to display the actual target values, stored as `y`, for a classification modeling task, along with the probabilistic predictions from a classification model (the probability of the positive class) stored as `pred_probs`.  "
   ]
  },
  {
   "cell_type": "code",
   "execution_count": 7,
   "metadata": {
    "deletable": false,
    "editable": false,
    "nbgrader": {
     "cell_type": "code",
     "checksum": "719648ac8e79f5b99d1b189956f17e1a",
     "grade": false,
     "grade_id": "cell-2e96c009ce44976e",
     "locked": true,
     "schema_version": 3,
     "solution": false,
     "task": false
    }
   },
   "outputs": [
    {
     "name": "stdout",
     "output_type": "stream",
     "text": [
      "Y values are [1 1 1 1 0 1 0 1 1 0 1 1 1 1 0 0 0 1 1 1]\n",
      "Predicted probabilities from the model are [0.42 0.72 0.   0.3  0.15 0.09 0.19 0.35 0.4  0.54 0.42 0.69 0.2  0.88\n",
      " 0.03 0.67 0.42 0.56 0.14 0.2 ]\n"
     ]
    }
   ],
   "source": [
    "import numpy as np\n",
    "import matplotlib.pyplot as plt\n",
    "\n",
    "import warnings\n",
    "warnings.filterwarnings(\"ignore\")\n",
    "\n",
    "# Actual y values saved as y:\n",
    "np.random.seed(0)\n",
    "y = np.round(np.random.rand(20)).astype(int)\n",
    "\n",
    "# Predictions (probabilities of the positive class) saved as pred_probs:\n",
    "np.random.seed(1)\n",
    "pred_probs = np.round(np.random.rand(20),decimals=2)\n",
    "\n",
    "print('Y values are {}'.format(y))\n",
    "print('Predicted probabilities from the model are {}'.format(pred_probs))"
   ]
  },
  {
   "cell_type": "markdown",
   "metadata": {
    "deletable": false,
    "editable": false,
    "nbgrader": {
     "cell_type": "markdown",
     "checksum": "ee333dcb1ab33e66a4336d86b80a8b68",
     "grade": false,
     "grade_id": "cell-490d7603fc98dc2e",
     "locked": true,
     "schema_version": 3,
     "solution": false,
     "task": false
    }
   },
   "source": [
    "Now, complete the below function `calc_metrics()`.  The function takes as inputs the true values `y` and the probabilistic predictions `pred_probs` and then calculates the following metrics on the predictions, using a threshold of >= 0.5 for predicting the positive class (1):\n",
    "- Accuracy\n",
    "- Recall\n",
    "- Precision\n",
    "- F1 Score\n",
    "\n",
    "Your function should return the four metrics above for the positive class (1) as float values, in the order shown above.\n",
    "\n",
    "You may use NumPy methods but **may NOT use any Scikit-Learn methods** to do this problem.\n"
   ]
  },
  {
   "cell_type": "code",
   "execution_count": 8,
   "metadata": {},
   "outputs": [],
   "source": [
    "def conf_matrix(y, y_preds):\n",
    "    TP, FP, FN, TN = 0, 0, 0, 0\n",
    "\n",
    "    for actual, pred in zip(y, y_preds):\n",
    "        if actual == pred:\n",
    "            if actual == 1:\n",
    "                TP += 1\n",
    "            else:\n",
    "                TN += 1\n",
    "        if actual != pred:\n",
    "            if actual == 1 and pred == 0:\n",
    "                FN += 1\n",
    "            elif actual == 0 and pred == 1:\n",
    "                FP += 1\n",
    "    return TP, FP, FN, TN"
   ]
  },
  {
   "cell_type": "code",
   "execution_count": 9,
   "metadata": {
    "deletable": false,
    "nbgrader": {
     "cell_type": "code",
     "checksum": "4231c0d96e8ea7cca0eb86854fd40574",
     "grade": false,
     "grade_id": "cell-b8fd7cb2dde7c4e2",
     "locked": false,
     "schema_version": 3,
     "solution": true,
     "task": false
    }
   },
   "outputs": [],
   "source": [
    "def calc_metrics(y,pred_probs):\n",
    "    '''\n",
    "    Calculates the accuracy, recall, precision and F1 score for a set of predictions and actuals using threshold >= 0.5 for positive class\n",
    "\n",
    "    Inputs:\n",
    "        y(np.array): array of actual target values\n",
    "        pred_probs(np.array): array of probabilistic predictions of the positive class\n",
    "\n",
    "    Returns:\n",
    "        acc(float): accuracy of the predictions\n",
    "        recall(float): recall of the predictions\n",
    "        precision(float): precision of the predictions\n",
    "        f1(float): F-1 score of the predictions\n",
    "    '''\n",
    "    \n",
    "    # YOUR CODE HERE\n",
    "\n",
    "    y_preds = [1 if x >= 0.5 else 0 for x in pred_probs]\n",
    "\n",
    "    TP, FP, FN, TN = conf_matrix(y, y_preds)\n",
    "    \n",
    "    acc = (TP + TN) / (TP + FP + FN + TN)\n",
    "\n",
    "    recall = TP / (TP + FN)\n",
    "\n",
    "    precision = TP / (TP + FP)\n",
    "\n",
    "    f1 = 2 * ((precision * recall)/(precision + recall))\n",
    "\n",
    "    return acc, recall, precision, f1\n",
    "\n",
    "    raise NotImplementedError()"
   ]
  },
  {
   "cell_type": "code",
   "execution_count": 10,
   "metadata": {
    "deletable": false,
    "editable": false,
    "nbgrader": {
     "cell_type": "code",
     "checksum": "e66f79c0da3b1119891fc6024ddec4bb",
     "grade": true,
     "grade_id": "cell-57ba507fba8c945f",
     "locked": true,
     "points": 5,
     "schema_version": 3,
     "solution": false,
     "task": false
    }
   },
   "outputs": [
    {
     "name": "stdout",
     "output_type": "stream",
     "text": [
      "Your function calculated the metrics as follows:\n",
      "Accuracy: 0.400\n",
      "Recall: 0.286\n",
      "Precision: 0.667\n",
      "F1 Score: 0.400\n"
     ]
    }
   ],
   "source": [
    "# Test cell\n",
    "acc,recall,precision,f1 = calc_metrics(y,pred_probs)\n",
    "\n",
    "print('Your function calculated the metrics as follows:')\n",
    "print('Accuracy: {:.3f}'.format(acc))\n",
    "print('Recall: {:.3f}'.format(recall))\n",
    "print('Precision: {:.3f}'.format(precision))\n",
    "print('F1 Score: {:.3f}'.format(f1))\n",
    "\n",
    "assert np.round(acc,2)==0.40\n",
    "assert np.round(recall,2)==0.29\n",
    "assert np.round(precision,2)==0.67\n",
    "assert np.round(f1,2)==0.40"
   ]
  },
  {
   "cell_type": "markdown",
   "metadata": {
    "deletable": false,
    "editable": false,
    "nbgrader": {
     "cell_type": "markdown",
     "checksum": "778c7325f85ef78e19dba3f16460632a",
     "grade": false,
     "grade_id": "cell-84be9e11d89131f2",
     "locked": true,
     "schema_version": 3,
     "solution": false,
     "task": false
    }
   },
   "source": [
    "### Question 4.1 [5 pts]\n",
    "Now, complete the function `calc_roc()` to calculate the values needed to plot a ROC curve for the model.  The function should take as input the actual values `y` and the probabilistic predictions of the positive class `pred_probs`.  The function should vary the threshold for predicting the positive class (1) using the range `thresh_vals` provided as input and for each threshold value, should compute the true positive rate (tpr) and false positive rate (fpr) of the predictions.  Your function should return two lists: the first list containing the tpr values at each threshold, and the second list containing the fpr values at each threshold.\n",
    "\n",
    "\n",
    "Again you **may NOT use any Scikit-Learn methods** for this part\n"
   ]
  },
  {
   "cell_type": "code",
   "execution_count": 11,
   "metadata": {
    "deletable": false,
    "nbgrader": {
     "cell_type": "code",
     "checksum": "495d8e134e2aa4cd48ce8f2eecadcde3",
     "grade": false,
     "grade_id": "cell-1c75a807a7564e9f",
     "locked": false,
     "schema_version": 3,
     "solution": true,
     "task": false
    }
   },
   "outputs": [],
   "source": [
    "def calc_roc(y,pred_probs,thresh_vals):\n",
    "    '''\n",
    "    Calculates the TPR and FPR of the predictions for all threshold values specified in the input.  Use >= threshold for \n",
    "    predicting the positive class\n",
    "\n",
    "    Inputs:\n",
    "        y(np.array): array of actual target values\n",
    "        pred_probs(np.array): array of probabilistic predictions of the positive class\n",
    "        thresh_vals(np.array): array of threshold values\n",
    "\n",
    "    Returns:\n",
    "        tprs(list): list of TPR values for each threshold\n",
    "        fprs(list): list of FPR values for each threshold\n",
    "    '''\n",
    "\n",
    "    # YOUR CODE HERE\n",
    "\n",
    "    tprs, fprs = [], []\n",
    "\n",
    "    for thresh in thresh_vals:\n",
    "        y_preds = [1 if x >= thresh else 0 for x in pred_probs]\n",
    "\n",
    "        TP, FP, FN, TN = conf_matrix(y, y_preds)\n",
    "\n",
    "        TPR = TP / (TP + FN)\n",
    "\n",
    "        FPR = FP / (FP + TN)\n",
    "\n",
    "        tprs.append(TPR)\n",
    "\n",
    "        fprs.append(FPR)\n",
    "    \n",
    "    return tprs, fprs\n",
    "        \n",
    "    raise NotImplementedError()"
   ]
  },
  {
   "cell_type": "code",
   "execution_count": 12,
   "metadata": {
    "deletable": false,
    "editable": false,
    "nbgrader": {
     "cell_type": "code",
     "checksum": "7605bd7c936ea482b072ae8ef827437f",
     "grade": true,
     "grade_id": "cell-3271899b8a665e16",
     "locked": true,
     "points": 5,
     "schema_version": 3,
     "solution": false,
     "task": false
    }
   },
   "outputs": [
    {
     "data": {
      "image/png": "[encoded data removed]",
      "text/plain": [
       "<Figure size 640x480 with 1 Axes>"
      ]
     },
     "metadata": {},
     "output_type": "display_data"
    }
   ],
   "source": [
    "# Test cell\n",
    "thresh_vals = np.arange(0.0,1.01,0.01)\n",
    "tprs,fprs = calc_roc(y,pred_probs,thresh_vals)\n",
    "assert (len(tprs),len(fprs))==(101,101)\n",
    "plt.plot(fprs,tprs,label='Model')\n",
    "plt.plot([0,1],[0,1],linestyle='--',label='Random guessing')\n",
    "plt.xlabel('fpr')\n",
    "plt.ylabel('tpr')\n",
    "plt.legend()\n",
    "plt.show()\n",
    "\n",
    "assert (np.round(np.mean(tprs),2)==0.39 or np.round(np.mean(tprs),2)==0.38)\n",
    "assert (np.round(np.mean(fprs),2)==0.34 or np.round(np.mean(fprs),2)==0.33)"
   ]
  },
  {
   "cell_type": "markdown",
   "metadata": {
    "deletable": false,
    "editable": false,
    "nbgrader": {
     "cell_type": "markdown",
     "checksum": "58e16fae95ec74f9cf5967f02fc9d031",
     "grade": false,
     "grade_id": "cell-5b55559192ce9e8e",
     "locked": true,
     "schema_version": 3,
     "solution": false,
     "task": false
    }
   },
   "source": [
    "## Question 5: Bias-Variance Tradeoff [18 points]\n",
    "In this question we are going to be working with an automotive dataset.  Our goal is to build a model to predict fuel efficiency (mpg) from engine horsepower.  We will be using a Random Forest for our model (you don't need to know what this is for purposes of answering this question, we will cover it later).    "
   ]
  },
  {
   "cell_type": "code",
   "execution_count": 13,
   "metadata": {
    "deletable": false,
    "editable": false,
    "nbgrader": {
     "cell_type": "code",
     "checksum": "702580b63b2cba1c97416314fb11ed1f",
     "grade": false,
     "grade_id": "cell-7de0b05db4391409",
     "locked": true,
     "schema_version": 3,
     "solution": false,
     "task": false
    }
   },
   "outputs": [],
   "source": [
    "import pandas as pd\n",
    "from sklearn.model_selection import train_test_split\n",
    "from sklearn.metrics import mean_absolute_error\n",
    "from sklearn.ensemble import RandomForestRegressor\n",
    "from sklearn.model_selection import KFold\n",
    "\n",
    "import warnings\n",
    "warnings.filterwarnings(\"ignore\")\n",
    "\n",
    "# Read in data\n",
    "data = pd.read_csv('Auto.csv')\n",
    "# Remove rows with missing values\n",
    "data = data[data['horsepower'] != '?']\n",
    "\n",
    "# Define the features and target (X and y)\n",
    "X = data['horsepower'].astype(int).values.reshape(-1,1)\n",
    "y = data['mpg'].values.astype(float)\n",
    "\n",
    "# Split into training and test sets\n",
    "X_train_full,X_test,y_train_full,y_test = train_test_split(X, y, random_state=0,test_size=0.1)\n",
    "\n",
    "# Model to use. Will vary min_samples_leaf and calculate cross-validation MAE \n",
    "model = RandomForestRegressor(min_samples_leaf=1,random_state=0)\n",
    "\n",
    "# Values of the hyperparameter min_samples_leaf to compare using cross-validation\n",
    "msl_range = np.arange(1,41,1)\n",
    "\n",
    "# Number of folds to use for k-folds cross validation\n",
    "folds = 3"
   ]
  },
  {
   "attachments": {},
   "cell_type": "markdown",
   "metadata": {
    "deletable": false,
    "editable": false,
    "nbgrader": {
     "cell_type": "markdown",
     "checksum": "cdf779abf0e27582391d45fec89d8acb",
     "grade": false,
     "grade_id": "cell-d61094fdecbc39bb",
     "locked": true,
     "schema_version": 3,
     "solution": false,
     "task": false
    }
   },
   "source": [
    "### Q5.0 (9 points)\n",
    "\n",
    "**When the value of min_samples_leaf is large (e.g. 35-40), is the model underfitting, overfitting, or fitting just right?  Defend your answer with 1-2 sentences and include a visualization of the model training and validation MAE generated by your code to explain your answer.**\n",
    "\n",
    "\n",
    "Our task is to compare the performance of the model using the different values for the hyperparameter `min_samples_leaf` listed in `msl_range`.  You should compare them using **3-fold cross-validation** and you should use **Mean Absolute Error** as your evaluation metric for comparision. \n",
    "\n",
    "Use the below space to write your code to compare the performance of the model using the different values of `min_samples_leaf` and generate any charts needed to answer the question.  "
   ]
  },
  {
   "attachments": {},
   "cell_type": "markdown",
   "metadata": {},
   "source": [
    "YOUR ANSWER HERE:\n",
    "\n",
    "As the number of leaves get larger (35-40), it can be seen the training MAE starts to stagnate at a constant value while the valdiation MAE keeps increasing. This indicates the model is fixating to well on the training data and is unable to generalize to validation data, indicating the model is overfitting"
   ]
  },
  {
   "cell_type": "code",
   "execution_count": 14,
   "metadata": {
    "deletable": false,
    "nbgrader": {
     "cell_type": "code",
     "checksum": "d22deb8ad63da355fcb646dec12f9154",
     "grade": false,
     "grade_id": "cell-aa448a45754b881a",
     "locked": false,
     "schema_version": 3,
     "solution": true,
     "task": false
    }
   },
   "outputs": [
    {
     "data": {
      "image/png": "[encoded data removed]",
      "text/plain": [
       "<Figure size 640x480 with 1 Axes>"
      ]
     },
     "metadata": {},
     "output_type": "display_data"
    }
   ],
   "source": [
    "# Use this cell to write any code and generate the visualizations you need to answer the question\n",
    "\n",
    "# YOUR CODE HERE\n",
    "\n",
    "models = [RandomForestRegressor(min_samples_leaf=leaf,random_state=0) for leaf in msl_range]\n",
    "\n",
    "mae_val = []\n",
    "\n",
    "mae_train = []\n",
    "\n",
    "kf = KFold(n_splits=3)\n",
    "\n",
    "for model in models:\n",
    "    mae_val_folds = []\n",
    "    for train_idx, val_idx in kf.split(X=X_train_full, y=y_train_full):\n",
    "        X_fold_train, X_fold_val = X_train_full[train_idx], X_train_full[val_idx]\n",
    "        y_fold_train, y_fold_val = y_train_full[train_idx], y_train_full[val_idx]\n",
    "\n",
    "        model.fit(X_fold_train, y_fold_train)\n",
    "\n",
    "        val_preds = model.predict(X_fold_val)\n",
    "\n",
    "        val_mae = mean_absolute_error(y_fold_val, val_preds)\n",
    "\n",
    "        mae_val_folds.append(val_mae)\n",
    "    \n",
    "    model.fit(X_train_full, y_train_full)\n",
    "\n",
    "    train_preds = model.predict(X_train_full)\n",
    "\n",
    "    train_mae = mean_absolute_error(y_train_full, train_preds)\n",
    "\n",
    "    mae_val.append(np.mean(mae_val_folds))\n",
    "    mae_train.append(train_mae)\n",
    "\n",
    "import matplotlib.pyplot as plt\n",
    "\n",
    "plt.plot(msl_range, mae_train, label = \"Train MAE\")\n",
    "plt.plot(msl_range, mae_val, label = \"Validation MAE\")\n",
    "plt.legend()\n",
    "plt.show()"
   ]
  },
  {
   "attachments": {},
   "cell_type": "markdown",
   "metadata": {},
   "source": [
    "### Q5.1 (9 points)\n",
    "When the value of min_samples_leaf is small (e.g. 1-5), is the model underfitting, overfitting, or fitting just right?  Defend your answer with 1-2 sentences and include a visualization of the model training and validation MAE generated by your code to explain your answer."
   ]
  },
  {
   "attachments": {},
   "cell_type": "markdown",
   "metadata": {},
   "source": [
    "YOUR ANSWER HERE:\n",
    "\n",
    "Wen the number of leaves start out small (1-5), it can be seen that the training MAE starts off low but increases while the validation MAE starts off high and decreases. This along with the small number of leaves could allude to the simplicity of the model, indicating the model is underfit"
   ]
  },
  {
   "cell_type": "code",
   "execution_count": 15,
   "metadata": {},
   "outputs": [
    {
     "data": {
      "image/png": "[encoded data removed]",
      "text/plain": [
       "<Figure size 640x480 with 1 Axes>"
      ]
     },
     "metadata": {},
     "output_type": "display_data"
    }
   ],
   "source": [
    "# Use this cell to write any code and generate the visualizations you need to answer the question\n",
    "\n",
    "# YOUR CODE HERE\n",
    "\n",
    "models = [RandomForestRegressor(min_samples_leaf=leaf,random_state=0) for leaf in msl_range]\n",
    "\n",
    "mae_val = []\n",
    "\n",
    "mae_train = []\n",
    "\n",
    "kf = KFold(n_splits=3)\n",
    "\n",
    "for model in models:\n",
    "    mae_val_folds = []\n",
    "    for train_idx, val_idx in kf.split(X=X_train_full, y=y_train_full):\n",
    "        X_fold_train, X_fold_val = X_train_full[train_idx], X_train_full[val_idx]\n",
    "        y_fold_train, y_fold_val = y_train_full[train_idx], y_train_full[val_idx]\n",
    "\n",
    "        model.fit(X_fold_train, y_fold_train)\n",
    "\n",
    "        val_preds = model.predict(X_fold_val)\n",
    "\n",
    "        val_mae = mean_absolute_error(y_fold_val, val_preds)\n",
    "\n",
    "        mae_val_folds.append(val_mae)\n",
    "    \n",
    "    model.fit(X_train_full, y_train_full)\n",
    "\n",
    "    train_preds = model.predict(X_train_full)\n",
    "\n",
    "    train_mae = mean_absolute_error(y_train_full, train_preds)\n",
    "\n",
    "    mae_val.append(np.mean(mae_val_folds))\n",
    "    mae_train.append(train_mae)\n",
    "\n",
    "import matplotlib.pyplot as plt\n",
    "\n",
    "plt.plot(msl_range, mae_train, label = \"Train MAE\")\n",
    "plt.plot(msl_range, mae_val, label = \"Validation MAE\")\n",
    "plt.legend()\n",
    "plt.show()"
   ]
  },
  {
   "cell_type": "markdown",
   "metadata": {
    "deletable": false,
    "editable": false,
    "nbgrader": {
     "cell_type": "markdown",
     "checksum": "f8c94c77fc5346a62b2e828c67a3a443",
     "grade": false,
     "grade_id": "cell-e10dff93fba5c6b9",
     "locked": true,
     "schema_version": 3,
     "solution": false,
     "task": false
    }
   },
   "source": [
    "## Question 6 [20 points]\n",
    "We are given a dataset from an experiment looking at how the thermal expansion coefficient of copper changes with temperature.  Our task is to model the relationship of thermal expansion coefficent to temperature to be able to predict the coefficient for any new temperature value.  We will use a Linear Regression model, but will apply polynomial transforms to the input data X in order to better capture the relationship between X and y.  We will evaluate different polynomial transforms to select the optimal polynomial order to use."
   ]
  },
  {
   "cell_type": "code",
   "execution_count": 16,
   "metadata": {
    "deletable": false,
    "editable": false,
    "nbgrader": {
     "cell_type": "code",
     "checksum": "ced429c13b6d8ba6894cda309f6f5d18",
     "grade": false,
     "grade_id": "cell-01dfd36ced1abffe",
     "locked": true,
     "schema_version": 3,
     "solution": false,
     "task": false
    }
   },
   "outputs": [
    {
     "data": {
      "text/html": [
       "<div>\n",
       "<style scoped>\n",
       "    .dataframe tbody tr th:only-of-type {\n",
       "        vertical-align: middle;\n",
       "    }\n",
       "\n",
       "    .dataframe tbody tr th {\n",
       "        vertical-align: top;\n",
       "    }\n",
       "\n",
       "    .dataframe thead th {\n",
       "        text-align: right;\n",
       "    }\n",
       "</style>\n",
       "<table border=\"1\" class=\"dataframe\">\n",
       "  <thead>\n",
       "    <tr style=\"text-align: right;\">\n",
       "      <th></th>\n",
       "      <th>X</th>\n",
       "      <th>y</th>\n",
       "    </tr>\n",
       "  </thead>\n",
       "  <tbody>\n",
       "    <tr>\n",
       "      <th>0</th>\n",
       "      <td>24.41</td>\n",
       "      <td>0.591</td>\n",
       "    </tr>\n",
       "    <tr>\n",
       "      <th>1</th>\n",
       "      <td>54.98</td>\n",
       "      <td>4.703</td>\n",
       "    </tr>\n",
       "    <tr>\n",
       "      <th>2</th>\n",
       "      <td>89.57</td>\n",
       "      <td>9.470</td>\n",
       "    </tr>\n",
       "    <tr>\n",
       "      <th>3</th>\n",
       "      <td>114.26</td>\n",
       "      <td>11.615</td>\n",
       "    </tr>\n",
       "    <tr>\n",
       "      <th>4</th>\n",
       "      <td>133.61</td>\n",
       "      <td>12.970</td>\n",
       "    </tr>\n",
       "  </tbody>\n",
       "</table>\n",
       "</div>"
      ],
      "text/plain": [
       "        X       y\n",
       "0   24.41   0.591\n",
       "1   54.98   4.703\n",
       "2   89.57   9.470\n",
       "3  114.26  11.615\n",
       "4  133.61  12.970"
      ]
     },
     "execution_count": 16,
     "metadata": {},
     "output_type": "execute_result"
    }
   ],
   "source": [
    "from sklearn.linear_model import LinearRegression\n",
    "from sklearn.preprocessing import PolynomialFeatures\n",
    "\n",
    "# Load the data\n",
    "copperdata = pd.read_csv('copper-new.txt',header=None)\n",
    "copperdata['X'] = copperdata.apply(lambda x: x.str.split()[0][1],axis=1)\n",
    "copperdata['y'] = copperdata.apply(lambda x: x.str.split()[0][0],axis=1)\n",
    "copperdata = copperdata[['X','y']].astype(float)\n",
    "copperdata.head()\n"
   ]
  },
  {
   "attachments": {},
   "cell_type": "markdown",
   "metadata": {
    "deletable": false,
    "editable": false,
    "nbgrader": {
     "cell_type": "markdown",
     "checksum": "124e4fd7259ad72cd312b5a1ecc0d101",
     "grade": false,
     "grade_id": "cell-9ab5a3153eceed0a",
     "locked": true,
     "schema_version": 3,
     "solution": false,
     "task": false
    }
   },
   "source": [
    "### Question 6.0 [10 pts]\n",
    "If we were to fit a linear regression model on this data, does it violate the assumption of linearity between the input and targets?  For credit you must justify your answer by referring to BOTH a scatterplot of the data and a plot of the residuals/errors vs your predictions and explain how we answer this question based on the plots. \n"
   ]
  },
  {
   "cell_type": "markdown",
   "metadata": {},
   "source": [
    "YOUR ANSWER HERE:\n",
    "\n",
    "It can be seen from the scatterplot that the data is a curved fashion and a linear model wouldn't fit the model well. As additional support, the errors v/s predictions plot shows the errors aren't uniformly distributed around the 0 line.\n",
    "\n",
    "Hence, the linear regression model violates the assumption of linearity between the input and targets"
   ]
  },
  {
   "cell_type": "code",
   "execution_count": 17,
   "metadata": {
    "deletable": false,
    "nbgrader": {
     "cell_type": "code",
     "checksum": "74319af3c5c0ae85a341e1c7e029a4db",
     "grade": false,
     "grade_id": "cell-7f30b18bc352cccb",
     "locked": false,
     "schema_version": 3,
     "solution": true,
     "task": false
    }
   },
   "outputs": [
    {
     "data": {
      "image/png": "[encoded data removed]",
      "text/plain": [
       "<Figure size 640x480 with 2 Axes>"
      ]
     },
     "metadata": {},
     "output_type": "display_data"
    },
    {
     "data": {
      "text/plain": [
       "<Figure size 1000x1000 with 0 Axes>"
      ]
     },
     "metadata": {},
     "output_type": "display_data"
    }
   ],
   "source": [
    "# Use this cell to write the code and generate the visualizations you need to answer the question\n",
    "\n",
    "# YOUR CODE HERE\n",
    "\n",
    "\n",
    "X = np.array(copperdata['X'])\n",
    "y = np.array(copperdata['y'])\n",
    "\n",
    "X_train, X_test, y_train, y_test = train_test_split(X, y, random_state=0, test_size=0.2)\n",
    "\n",
    "model = LinearRegression().fit(X_train.reshape(-1, 1), y_train)\n",
    "\n",
    "y_pred = model.predict(X_test.reshape(-1, 1))\n",
    "\n",
    "errors = [y - y_hat for y, y_hat in zip(y_train, y_pred)]\n",
    "\n",
    "figure, axis = plt.subplots(1, 2)\n",
    "\n",
    "axis[0].scatter(X, y)\n",
    "axis[0].set_title(\"Scatter Plot\")\n",
    "axis[0].set_xlabel(\"X\")\n",
    "axis[0].set_ylabel(\"y\")\n",
    "\n",
    "axis[1].scatter(y_pred, errors)\n",
    "axis[1].set_title(\"Errors v/s Predictions\")\n",
    "axis[1].axhline(y=0, color='red')\n",
    "axis[1].set_xlabel(\"y_pred\")\n",
    "axis[1].set_ylabel(\"error\")\n",
    "\n",
    "# plt.plot(y_pred, errors)\n",
    "\n",
    "# plt.scatter(X, y)\n",
    "plt.figure(figsize=(10, 10))\n",
    "plt.show()"
   ]
  },
  {
   "cell_type": "markdown",
   "metadata": {
    "deletable": false,
    "editable": false,
    "nbgrader": {
     "cell_type": "markdown",
     "checksum": "d76d87e2f8848e9d27586667ea89adbd",
     "grade": false,
     "grade_id": "cell-e5f74b41ebffbf91",
     "locked": true,
     "schema_version": 3,
     "solution": false,
     "task": false
    }
   },
   "source": [
    "### Question 6.1 [10 pts]\n",
    "Let's see if we can use polynomial regression to find a better fitting model than a standard linear regression.  When doing your polynomial transformation be sure to include a bias term\n",
    "\n",
    "Complete the below function `polynomial_model()` which finds the optimal degree polynomial transform (from the list provided as input) using a fixed validation set.  Split your data to use 10% as the test set.  Of the remaining 90%, use 80% of that for training and 20% for validation.  Be sure to use `random_state=0` when splitting your data.  Your function should return the optimal degree of polynomial transform which minimizes MAE on the validation set, and the MAE of your final model on the test set (be sure to retrain on the full data after finding your optimal transform).\n"
   ]
  },
  {
   "cell_type": "code",
   "execution_count": 18,
   "metadata": {
    "deletable": false,
    "nbgrader": {
     "cell_type": "code",
     "checksum": "a40d71f0ea6b69d1a083e65132fc376d",
     "grade": false,
     "grade_id": "cell-4b8c42820317ca0d",
     "locked": false,
     "schema_version": 3,
     "solution": true,
     "task": false
    }
   },
   "outputs": [],
   "source": [
    "def polynomial_model(df,n_range):\n",
    "    '''\n",
    "    Finds the optimal degree of polynomial transform and calculates the MAE of the optimal model on the test set\n",
    "\n",
    "    Inputs:\n",
    "        df(DataFrame): dataframe containing the inputs and targets\n",
    "        n_range(list): list of values to use for degree of the polynomial transform\n",
    "\n",
    "    Returns:\n",
    "        opt_degree(int): optimal degree of polynomial transform that minimizes MAE on the validation set\n",
    "        test_mae(float): MAE on the test set\n",
    "    '''\n",
    "    \n",
    "    # YOUR CODE HERE\n",
    "\n",
    "    val_maes = []\n",
    "\n",
    "    X_train_orig, X_test, y_train_orig, y_test = train_test_split(np.array(df['X']), np.array(df['y']), random_state=0, test_size=.10)\n",
    "\n",
    "    X_train, X_val, y_train, y_val = train_test_split(X_train_orig, y_train_orig, test_size=.20, random_state=0)\n",
    "\n",
    "    for n in n_range:\n",
    "\n",
    "        poly = PolynomialFeatures(degree=n, include_bias=True)\n",
    "\n",
    "        poly_features = poly.fit_transform(X_train.reshape(-1, 1))\n",
    "\n",
    "        val_features = poly.transform(X_val.reshape(-1, 1))\n",
    "\n",
    "        poly_reg_model = LinearRegression()\n",
    "\n",
    "        poly_reg_model.fit(poly_features, y_train)\n",
    "\n",
    "        y_preds = poly_reg_model.predict(val_features)\n",
    "\n",
    "        val_mae = mean_absolute_error(y_preds, y_val)\n",
    "\n",
    "        val_maes.append(round(val_mae, 2))\n",
    "    \n",
    "    opt_degree = np.argmin(val_maes) + 1\n",
    "\n",
    "    poly_final =PolynomialFeatures(degree=opt_degree, include_bias=True)\n",
    "\n",
    "    poly_feat_final = poly_final.fit_transform(X_train_orig.reshape(-1, 1))\n",
    "\n",
    "    test_features = poly_final.transform(X_test.reshape(-1, 1))\n",
    "\n",
    "    poly_reg_model = LinearRegression()\n",
    "\n",
    "    poly_reg_model.fit(poly_feat_final, y_train_orig)\n",
    "\n",
    "    y_preds = poly_reg_model.predict(test_features)\n",
    "\n",
    "    val_mae = round(mean_absolute_error(y_preds, y_test), 2)\n",
    "\n",
    "    return opt_degree, val_mae\n",
    "\n",
    "    raise NotImplementedError()"
   ]
  },
  {
   "cell_type": "code",
   "execution_count": 19,
   "metadata": {
    "deletable": false,
    "editable": false,
    "nbgrader": {
     "cell_type": "code",
     "checksum": "ba828510494d59220163011398aa93e8",
     "grade": true,
     "grade_id": "cell-2a1cd5ba21767636",
     "locked": true,
     "points": 10,
     "schema_version": 3,
     "solution": false,
     "task": false
    }
   },
   "outputs": [
    {
     "name": "stdout",
     "output_type": "stream",
     "text": [
      "Your function found the optimal degree was 5\n",
      "Your function calculated a test set MAE of 0.160\n"
     ]
    }
   ],
   "source": [
    "# Test cell\n",
    "n_range = range(1,8)\n",
    "opt_degree, test_mae = polynomial_model(copperdata, n_range)\n",
    "\n",
    "\n",
    "print('Your function found the optimal degree was {}'.format(opt_degree))\n",
    "print('Your function calculated a test set MAE of {:.3f}'.format(test_mae))\n",
    "\n",
    "assert opt_degree == 5\n",
    "assert np.round(test_mae,2)==0.16\n"
   ]
  }
 ],
 "metadata": {
  "kernelspec": {
   "display_name": "Python 3",
   "language": "python",
   "name": "python3"
  },
  "language_info": {
   "codemirror_mode": {
    "name": "ipython",
    "version": 3
   },
   "file_extension": ".py",
   "mimetype": "text/x-python",
   "name": "python",
   "nbconvert_exporter": "python",
   "pygments_lexer": "ipython3",
   "version": "3.10.8"
  },
  "vscode": {
   "interpreter": {
    "hash": "31cc86d7aac4849c7546154c9b56d60163d5e8a1d83593a5eed18774fbf4fd37"
   }
  }
 },
 "nbformat": 4,
 "nbformat_minor": 4
}
